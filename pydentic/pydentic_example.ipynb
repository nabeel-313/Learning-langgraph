{
 "cells": [
  {
   "cell_type": "code",
   "execution_count": 8,
   "id": "4ad11a30",
   "metadata": {},
   "outputs": [],
   "source": [
    "from pydantic import BaseModel, Field\n",
    "from typing import Literal\n",
    "from dotenv import load_dotenv, find_dotenv\n",
    "import os\n",
    "import requests\n",
    "\n",
    "load_dotenv(find_dotenv())\n",
    "def get_api_key(api_key_name):\n",
    "    return os.getenv(api_key_name)\n",
    "\n"
   ]
  },
  {
   "cell_type": "code",
   "execution_count": 10,
   "id": "c337e3fe",
   "metadata": {},
   "outputs": [
    {
     "name": "stdout",
     "output_type": "stream",
     "text": [
      "city='Pune' temp=34.5 unit='Celsius' wind=WindInfo(speed=5.6, direction=124)\n"
     ]
    }
   ],
   "source": [
    "class WindInfo(BaseModel):\n",
    "    speed: float = Field(..., description=\"Wind speed in km/h\")\n",
    "    direction: int = Field(..., description=\"Wind direction in radian, e.g., 258'\")\n",
    "\n",
    "class WeatherResponse(BaseModel):\n",
    "    city: str\n",
    "    temp: float\n",
    "    unit: Literal[\"Celsius\", \"Fahrenheit\", \"Kelvin\"]\n",
    "    wind: WindInfo\n",
    "    \n",
    "# Example usage\n",
    "example_json = {\n",
    "    \"city\": \"Pune\",\n",
    "    \"temp\": 34.5,\n",
    "    \"unit\": \"Celsius\",\n",
    "    \"wind\": {\n",
    "        \"speed\": 5.6,\n",
    "        \"direction\": \"124\"\n",
    "    }\n",
    "}\n",
    "\n",
    "weather_data = WeatherResponse(**example_json)\n",
    "print(weather_data)"
   ]
  },
  {
   "cell_type": "code",
   "execution_count": 14,
   "id": "550e9811",
   "metadata": {},
   "outputs": [
    {
     "data": {
      "text/plain": [
       "WeatherResponse(city='Pune', temp=24.38, unit='Celsius', wind=WindInfo(speed=3.44, direction=254))"
      ]
     },
     "execution_count": 14,
     "metadata": {},
     "output_type": "execute_result"
    }
   ],
   "source": [
    "def weahter_report(city_name:str)-> WeatherResponse:\n",
    "    \"\"\" This function generates a weather report for a given city name.\n",
    "    Args: city name\n",
    "    Returns: A json containing the weather report.\n",
    "    \"\"\"\n",
    "    base_url = \"https://api.openweathermap.org/data/2.5/weather\"\n",
    "    params = {\n",
    "        \"q\": city_name,\n",
    "        \"appid\": get_api_key(\"OPENWEATHERMAP_API_KEY\"),\n",
    "        \"units\": \"metric\"\n",
    "    }\n",
    "    response = requests.get(base_url, params=params)\n",
    "    \n",
    "    if response.status_code != 200:\n",
    "        return f\"Error fetching weather: {response.text}\"\n",
    "    data = response.json()\n",
    "    info = WeatherResponse(\n",
    "        city = data['name'],\n",
    "        temp = data['main']['temp'],\n",
    "        unit = \"Celsius\",\n",
    "        wind = WindInfo (\n",
    "            speed = data[\"wind\"][\"speed\"],\n",
    "            direction = data[\"wind\"][\"deg\"]\n",
    "        )\n",
    "    )\n",
    "    return info\n",
    "\n",
    "\n",
    "weahter_report('Pune')"
   ]
  },
  {
   "cell_type": "code",
   "execution_count": 20,
   "id": "792ccece",
   "metadata": {},
   "outputs": [
    {
     "name": "stdout",
     "output_type": "stream",
     "text": [
      "####################################################################################################\n",
      "#            city='Pune' temp=24.38 unit='Celsius' wind=WindInfo(speed=3.44, direction=254)           \n",
      "####################################################################################################\n",
      "#            city='Mumbai' temp=27.44 unit='Celsius' wind=WindInfo(speed=5.16, direction=240)           \n",
      "####################################################################################################\n",
      "#            city='Hyderabad' temp=26.67 unit='Celsius' wind=WindInfo(speed=5.34, direction=248)           \n"
     ]
    }
   ],
   "source": [
    "cities = ['Pune', 'Mumbai', 'Hyderabad']\n",
    "for city in cities:\n",
    "    print(\"#\"*100)\n",
    "    print(\"#\",\" \"*10,weahter_report(city), \" \"*10)\n",
    "    #print(\"#\"*100)\n",
    "    "
   ]
  },
  {
   "cell_type": "code",
   "execution_count": null,
   "id": "52aa73e1",
   "metadata": {},
   "outputs": [],
   "source": []
  }
 ],
 "metadata": {
  "kernelspec": {
   "display_name": "Python 3",
   "language": "python",
   "name": "python3"
  },
  "language_info": {
   "codemirror_mode": {
    "name": "ipython",
    "version": 3
   },
   "file_extension": ".py",
   "mimetype": "text/x-python",
   "name": "python",
   "nbconvert_exporter": "python",
   "pygments_lexer": "ipython3",
   "version": "3.12.11"
  }
 },
 "nbformat": 4,
 "nbformat_minor": 5
}
