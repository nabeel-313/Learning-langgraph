{
 "cells": [
  {
   "cell_type": "code",
   "execution_count": 2,
   "id": "fb30836e",
   "metadata": {},
   "outputs": [],
   "source": [
    "from dotenv import load_dotenv\n",
    "import os\n",
    "def get_api_key(api_key_name):\n",
    "        return os.getenv(api_key_name)"
   ]
  },
  {
   "cell_type": "markdown",
   "id": "c9f421db",
   "metadata": {},
   "source": [
    "### Openai"
   ]
  },
  {
   "cell_type": "code",
   "execution_count": 5,
   "id": "4d6ebfe4",
   "metadata": {},
   "outputs": [
    {
     "name": "stderr",
     "output_type": "stream",
     "text": [
      "C:\\Users\\NABEEL AHMED\\AppData\\Local\\Temp\\ipykernel_26840\\2276095865.py:5: LangChainDeprecationWarning: The method `BaseChatModel.__call__` was deprecated in langchain-core 0.1.7 and will be removed in 1.0. Use :meth:`~invoke` instead.\n",
      "  response = openai_llm([\n"
     ]
    },
    {
     "name": "stdout",
     "output_type": "stream",
     "text": [
      "Hello! How can I assist you today?\n"
     ]
    }
   ],
   "source": [
    "from langchain_openai import ChatOpenAI\n",
    "from langchain_core.messages import HumanMessage, SystemMessage\n",
    "\n",
    "openai_llm = ChatOpenAI(api_key=get_api_key(\"OPENAI_API_KEY\"), temperature=0.3, model='gpt-3.5-turbo')\n",
    "response = openai_llm([\n",
    "    SystemMessage(content=\"You are a helpful assistant.\"),\n",
    "    HumanMessage(content=\"Hello\")\n",
    "])\n",
    "\n",
    "print(response.content)"
   ]
  },
  {
   "cell_type": "code",
   "execution_count": 6,
   "id": "6ccb17b0",
   "metadata": {},
   "outputs": [
    {
     "name": "stdout",
     "output_type": "stream",
     "text": [
      "content='Hello! How can I assist you today?' additional_kwargs={'refusal': None} response_metadata={'token_usage': {'completion_tokens': 9, 'prompt_tokens': 18, 'total_tokens': 27, 'completion_tokens_details': {'accepted_prediction_tokens': 0, 'audio_tokens': 0, 'reasoning_tokens': 0, 'rejected_prediction_tokens': 0}, 'prompt_tokens_details': {'audio_tokens': 0, 'cached_tokens': 0}}, 'model_name': 'gpt-3.5-turbo-0125', 'system_fingerprint': None, 'id': 'chatcmpl-CC5SkK7LZB2mGhhPwohHj0PWmUZfI', 'service_tier': 'default', 'finish_reason': 'stop', 'logprobs': None} id='run--843dfef7-16c7-4568-b759-33c97e03230a-0' usage_metadata={'input_tokens': 18, 'output_tokens': 9, 'total_tokens': 27, 'input_token_details': {'audio': 0, 'cache_read': 0}, 'output_token_details': {'audio': 0, 'reasoning': 0}}\n"
     ]
    }
   ],
   "source": [
    "print(response)"
   ]
  },
  {
   "cell_type": "markdown",
   "id": "550f49fe",
   "metadata": {},
   "source": [
    "### Gemini"
   ]
  },
  {
   "cell_type": "code",
   "execution_count": 5,
   "id": "a3c74f27",
   "metadata": {},
   "outputs": [
    {
     "name": "stdout",
     "output_type": "stream",
     "text": [
      "Hi there! How can I help you today?\n"
     ]
    }
   ],
   "source": [
    "from langchain_google_genai import ChatGoogleGenerativeAI\n",
    "from langchain.schema import HumanMessage, SystemMessage\n",
    "\n",
    "# Initialize Gemini LLM\n",
    "gemini_llm = ChatGoogleGenerativeAI(\n",
    "    model=\"gemini-2.5-flash\",\n",
    "    google_api_key=get_api_key(\"GOOGLE_API_KEY\"),\n",
    "    temperature=0.3\n",
    ")\n",
    "\n",
    "# Send a query\n",
    "response_gemini = gemini_llm([\n",
    "    SystemMessage(content=\"You are a helpful assistant.\"),\n",
    "    HumanMessage(content=\"Hi\")\n",
    "])\n",
    "\n",
    "print(response_gemini.content)\n"
   ]
  },
  {
   "cell_type": "code",
   "execution_count": 6,
   "id": "9a9b04a6",
   "metadata": {},
   "outputs": [
    {
     "data": {
      "text/plain": [
       "AIMessage(content='Hi there! How can I help you today?', additional_kwargs={}, response_metadata={'prompt_feedback': {'block_reason': 0, 'safety_ratings': []}, 'finish_reason': 'STOP', 'safety_ratings': []}, id='run--f3f9d3b7-717b-454a-bff1-46d75c7db93b-0', usage_metadata={'input_tokens': 8, 'output_tokens': 10, 'total_tokens': 38, 'input_token_details': {'cache_read': 0}})"
      ]
     },
     "execution_count": 6,
     "metadata": {},
     "output_type": "execute_result"
    }
   ],
   "source": [
    "response_gemini"
   ]
  },
  {
   "cell_type": "code",
   "execution_count": 7,
   "id": "e65db7a8",
   "metadata": {},
   "outputs": [
    {
     "name": "stdout",
     "output_type": "stream",
     "text": [
      "Assistant: How can I assist you today?\n"
     ]
    }
   ],
   "source": [
    "from langchain_groq import ChatGroq\n",
    "from langchain.schema import SystemMessage, HumanMessage\n",
    "\n",
    "# Initialize the Groq LLM client with Llama 3.1 8B Instant\n",
    "groq_llm = ChatGroq(\n",
    "    api_key=get_api_key(\"GROQ_API_KEY\"),\n",
    "    model=\"llama-3.1-8b-instant\",\n",
    "    temperature=0.3\n",
    ")\n",
    "\n",
    "# Send a chat-style query\n",
    "response_groq = groq_llm([\n",
    "    SystemMessage(content=\"You are a helpful assistant.\"),\n",
    "    HumanMessage(content=\"Hi\")\n",
    "])\n",
    "\n",
    "print(\"Assistant:\", response_groq.content)\n"
   ]
  },
  {
   "cell_type": "code",
   "execution_count": 8,
   "id": "9c79393d",
   "metadata": {},
   "outputs": [
    {
     "name": "stdout",
     "output_type": "stream",
     "text": [
      "content='How can I assist you today?' additional_kwargs={} response_metadata={'token_usage': {'completion_tokens': 8, 'prompt_tokens': 42, 'total_tokens': 50, 'completion_time': 0.000299155, 'prompt_time': 0.066461362, 'queue_time': 0.066509858, 'total_time': 0.066760517}, 'model_name': 'llama-3.1-8b-instant', 'system_fingerprint': 'fp_c40956ddc4', 'service_tier': 'on_demand', 'finish_reason': 'stop', 'logprobs': None} id='run--675db4c5-bc0c-47df-a0a2-747f9bf3260f-0' usage_metadata={'input_tokens': 42, 'output_tokens': 8, 'total_tokens': 50}\n"
     ]
    }
   ],
   "source": [
    "print(response_groq)"
   ]
  },
  {
   "cell_type": "code",
   "execution_count": 12,
   "id": "cd6c650c",
   "metadata": {},
   "outputs": [
    {
     "name": "stdout",
     "output_type": "stream",
     "text": [
      "Hello! How can I assist you today? 😊\n"
     ]
    }
   ],
   "source": [
    "from langchain_groq import ChatGroq\n",
    "from langchain.schema import SystemMessage, HumanMessage\n",
    "import re\n",
    "\n",
    "# Initialize the Groq LLM client\n",
    "groq_llm_ds = ChatGroq(\n",
    "    api_key=get_api_key(\"GROQ_API_KEY\"),\n",
    "    model=\"deepseek-r1-distill-llama-70b\",\n",
    "    temperature=0.3\n",
    ")\n",
    "\n",
    "# Send a chat-style query\n",
    "response_dpsk = groq_llm_ds([\n",
    "    SystemMessage(content=\"You are a helpful assistant.\"),\n",
    "    HumanMessage(content=\"Hi\")\n",
    "])\n",
    "\n",
    "#print(response_dpsk.content)\n",
    "clean_response = re.sub(r\"<.*?>\", \"\", response_dpsk.content).strip()\n",
    "print(clean_response)\n"
   ]
  },
  {
   "cell_type": "code",
   "execution_count": 11,
   "id": "f16f979f",
   "metadata": {},
   "outputs": [
    {
     "name": "stdout",
     "output_type": "stream",
     "text": [
      "content='<think>\\n\\n</think>\\n\\nHello! How can I assist you today? 😊' additional_kwargs={} response_metadata={'token_usage': {'completion_tokens': 16, 'prompt_tokens': 10, 'total_tokens': 26, 'completion_time': 0.070424392, 'prompt_time': 0.010109849, 'queue_time': 0.048772431, 'total_time': 0.080534241}, 'model_name': 'deepseek-r1-distill-llama-70b', 'system_fingerprint': 'fp_1bbe7845ec', 'service_tier': 'on_demand', 'finish_reason': 'stop', 'logprobs': None} id='run--abb5b1e0-a58d-4081-abf6-eb2afe008770-0' usage_metadata={'input_tokens': 10, 'output_tokens': 16, 'total_tokens': 26}\n"
     ]
    }
   ],
   "source": [
    "print(response_dpsk)"
   ]
  },
  {
   "cell_type": "code",
   "execution_count": 14,
   "id": "d9656693",
   "metadata": {},
   "outputs": [
    {
     "name": "stdout",
     "output_type": "stream",
     "text": [
      "Table saved as 'llm_capabilities_table.xlsx'\n"
     ]
    }
   ],
   "source": [
    "import pandas as pd\n",
    "\n",
    "# Data as list of dicts\n",
    "data = [\n",
    "    {\"Provider\": \"OpenAI\", \"Model\": \"gpt-3.5-turbo\", \"Memory Support\": \"✅ Basic\", \"Tool Integration\": \"✅ Supports tool calls\", \"Agent Integration\": \"✅ Can be used in LangChain agents\", \"Notes\": \"Most commonly used for chatbots & agents\"},\n",
    "    {\"Provider\": \"OpenAI\", \"Model\": \"gpt-4o-mini\", \"Memory Support\": \"✅ Basic\", \"Tool Integration\": \"✅ Supports tool calls\", \"Agent Integration\": \"✅ Suitable for agents\", \"Notes\": \"Better reasoning and code tasks\"},\n",
    "    {\"Provider\": \"OpenAI\", \"Model\": \"gpt-4o\", \"Memory Support\": \"✅ Advanced\", \"Tool Integration\": \"✅ Supports tool calls\", \"Agent Integration\": \"✅ Suitable for complex agents\", \"Notes\": \"Long context, advanced reasoning\"},\n",
    "    {\"Provider\": \"Gemini\", \"Model\": \"gemini-1.5-pro\", \"Memory Support\": \"✅ Yes\", \"Tool Integration\": \"✅ Supports tool calls\", \"Agent Integration\": \"✅ Can be used in agents\", \"Notes\": \"Strong reasoning, multi-turn memory capable\"},\n",
    "    {\"Provider\": \"Gemini\", \"Model\": \"gemini-1.5-flash\", \"Memory Support\": \"✅ Yes (short-term)\", \"Tool Integration\": \"✅ Supports limited tool calls\", \"Agent Integration\": \"✅ Can be used in agents\", \"Notes\": \"Cheaper, faster variant\"},\n",
    "    {\"Provider\": \"Groq LLaMA\", \"Model\": \"llama-3.1-8b-instant\", \"Memory Support\": \"❌ Minimal (requires external memory)\", \"Tool Integration\": \"✅ Supports tool use (preview)\", \"Agent Integration\": \"✅ Can integrate in agents\", \"Notes\": \"Lightweight, cost-effective\"},\n",
    "    {\"Provider\": \"Groq LLaMA\", \"Model\": \"llama-3.1-70b\", \"Memory Support\": \"✅ Yes (via external memory)\", \"Tool Integration\": \"✅ Tool integration possible\", \"Agent Integration\": \"✅ Agent integration possible\", \"Notes\": \"Large reasoning tasks, supports long context\"},\n",
    "    {\"Provider\": \"Groq LLaMA\", \"Model\": \"llama3-groq-70b-8192-tool-use-preview\", \"Memory Support\": \"✅ Yes\", \"Tool Integration\": \"✅ Enhanced tool integration\", \"Agent Integration\": \"✅ Full agent integration\", \"Notes\": \"Optimized for tool usage and multi-agent flows\"},\n",
    "    {\"Provider\": \"Groq LLaMA\", \"Model\": \"llama3-groq-8b-8192-tool-use-preview\", \"Memory Support\": \"✅ Yes\", \"Tool Integration\": \"✅ Tool integration\", \"Agent Integration\": \"✅ Agent integration\", \"Notes\": \"Smaller tool-use model, faster & cheaper\"},\n",
    "    {\"Provider\": \"Groq DeepSeek\", \"Model\": \"deepseek-r1-distill-llama-70b\", \"Memory Support\": \"✅ Yes (multi-turn context)\", \"Tool Integration\": \"✅ Supports tools\", \"Agent Integration\": \"✅ Agent-ready\", \"Notes\": \"Most ChatGPT-like replacement on Groq\"},\n",
    "    {\"Provider\": \"Groq DeepSeek\", \"Model\": \"deepseek-r1-distill-qwen-32b\", \"Memory Support\": \"✅ Yes\", \"Tool Integration\": \"✅ Supports tools\", \"Agent Integration\": \"✅ Agent-ready\", \"Notes\": \"Strong reasoning, slightly different behavior from LLaMA\"}\n",
    "]\n",
    "\n",
    "# Create DataFrame\n",
    "df = pd.DataFrame(data)\n",
    "\n",
    "# Save as Excel\n",
    "df.to_excel(\"llm_capabilities_table.xlsx\", index=False)\n",
    "print(\"Table saved as 'llm_capabilities_table.xlsx'\")\n"
   ]
  },
  {
   "cell_type": "code",
   "execution_count": null,
   "id": "377a5718",
   "metadata": {},
   "outputs": [],
   "source": []
  }
 ],
 "metadata": {
  "kernelspec": {
   "display_name": "langgraph",
   "language": "python",
   "name": "python3"
  },
  "language_info": {
   "codemirror_mode": {
    "name": "ipython",
    "version": 3
   },
   "file_extension": ".py",
   "mimetype": "text/x-python",
   "name": "python",
   "nbconvert_exporter": "python",
   "pygments_lexer": "ipython3",
   "version": "3.12.11"
  }
 },
 "nbformat": 4,
 "nbformat_minor": 5
}
