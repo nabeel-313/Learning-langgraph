{
 "cells": [
  {
   "cell_type": "code",
   "execution_count": 6,
   "id": "2647acd6",
   "metadata": {},
   "outputs": [],
   "source": [
    "import os\n",
    "def get_api_key(api_key_name):\n",
    "    return os.getenv(api_key_name)"
   ]
  },
  {
   "cell_type": "code",
   "execution_count": 14,
   "id": "f7af0abe",
   "metadata": {},
   "outputs": [],
   "source": [
    "from typing import Annotated, TypedDict, Literal, List\n",
    "from langchain_community.tools.tavily_search import TavilySearchResults\n",
    "from langchain_core.messages import HumanMessage\n",
    "from langchain_core.tools import tool\n",
    "from langgraph.checkpoint.memory import MemorySaver\n",
    "from langgraph.graph import END, START, StateGraph, MessagesState\n",
    "from langgraph.prebuilt import ToolNode\n",
    "import requests\n",
    "import tqdm as notebook_tqdm\n",
    "from langchain.utilities import SerpAPIWrapper"
   ]
  },
  {
   "cell_type": "code",
   "execution_count": 8,
   "id": "9d3d57a7",
   "metadata": {},
   "outputs": [
    {
     "data": {
      "text/plain": [
       "True"
      ]
     },
     "execution_count": 8,
     "metadata": {},
     "output_type": "execute_result"
    }
   ],
   "source": [
    "from dotenv import find_dotenv, load_dotenv\n",
    "load_dotenv(find_dotenv())"
   ]
  },
  {
   "cell_type": "markdown",
   "id": "d38d960a",
   "metadata": {},
   "source": [
    "## Example 01"
   ]
  },
  {
   "cell_type": "code",
   "execution_count": 11,
   "id": "0368475c",
   "metadata": {},
   "outputs": [],
   "source": [
    "WEATHER_API_KEY = get_api_key(\"WEATHER_API_KEY\")\n",
    "TAVILY_API_KEY = get_api_key(\"TAVILY_API_KEY\")\n",
    "GOOGLE_API_KEY = get_api_key(\"GOOGLE_API_KEY\")"
   ]
  },
  {
   "cell_type": "code",
   "execution_count": 10,
   "id": "458115ce",
   "metadata": {},
   "outputs": [],
   "source": [
    "@tool\n",
    "def get_weather(query: str) -> list:\n",
    "    \"\"\"Search weatherapi to get the current weather\"\"\"\n",
    "    endpoint = f\"http://api.weatherapi.com/v1/current.json?key={WEATHER_API_KEY}&q={query}\"\n",
    "    response = requests.get(endpoint)\n",
    "    data = response.json()\n",
    "\n",
    "    if data.get(\"location\"):\n",
    "        return data\n",
    "    else:\n",
    "        return \"Weather Data Not Found\"\n",
    "\n",
    "@tool\n",
    "def search_web(query: str) -> list:\n",
    "    \"\"\"Search the web for a query\"\"\"\n",
    "    tavily_search = TavilySearchResults(api_key=TAVILY_API_KEY, max_results=2, search_depth='advanced', max_tokens=1000)\n",
    "    results = tavily_search.invoke(query)\n",
    "    return results"
   ]
  },
  {
   "cell_type": "code",
   "execution_count": 15,
   "id": "af36e295",
   "metadata": {},
   "outputs": [],
   "source": [
    "from langchain_google_genai import ChatGoogleGenerativeAI\n",
    "llm = ChatGoogleGenerativeAI(model=\"gemini-1.5-flash\", temperature=0.3, google_api_key=GOOGLE_API_KEY)"
   ]
  },
  {
   "cell_type": "code",
   "execution_count": 13,
   "id": "3fab4a53",
   "metadata": {},
   "outputs": [],
   "source": [
    "tools = [search_web, get_weather]\n",
    "llm_with_tools = llm.bind_tools(tools)"
   ]
  },
  {
   "cell_type": "code",
   "execution_count": null,
   "id": "8ec55e7d",
   "metadata": {},
   "outputs": [],
   "source": [
    "#https://medium.com/pythoneers/building-ai-agent-systems-with-langgraph-9d85537a6326\n",
    "#https://aiproduct.engineer/tutorials/langgraph-tutorial-mastering-toolnode-implementation-unit-22-exercise-6"
   ]
  }
 ],
 "metadata": {
  "kernelspec": {
   "display_name": "Python 3",
   "language": "python",
   "name": "python3"
  },
  "language_info": {
   "codemirror_mode": {
    "name": "ipython",
    "version": 3
   },
   "file_extension": ".py",
   "mimetype": "text/x-python",
   "name": "python",
   "nbconvert_exporter": "python",
   "pygments_lexer": "ipython3",
   "version": "3.12.11"
  }
 },
 "nbformat": 4,
 "nbformat_minor": 5
}
