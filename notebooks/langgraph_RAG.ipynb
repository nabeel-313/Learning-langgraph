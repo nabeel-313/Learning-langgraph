{
 "cells": [
  {
   "cell_type": "markdown",
   "id": "63b44ca1",
   "metadata": {},
   "source": [
    "### Load and Chunk Documents"
   ]
  },
  {
   "cell_type": "code",
   "execution_count": null,
   "id": "dfa105aa",
   "metadata": {},
   "outputs": [],
   "source": []
  },
  {
   "cell_type": "code",
   "execution_count": 1,
   "id": "43c6cb61",
   "metadata": {},
   "outputs": [
    {
     "name": "stdout",
     "output_type": "stream",
     "text": [
      "[Document(metadata={'title': 'Far East', 'article_id': '85954'}, page_content='The term Far East means countries of East Asia. It became used in the English language during the period of the British Empire for lands to the east of British India. Before World War I, the \"Near East\" meant relatively nearby lands of the Ottoman Empire, \"Middle East\" northwestern South Asia and Central Asia, and \"Far East\" countries along the western Pacific Ocean and countries along the eastern Indian Ocean. Many European languages have analogous terms, such as the French \\', Spanish \\', Portuguese \\', German \\', Italian \\', and Dutch \\'. \"Far East\" is never used for the culturally Western nations of Australia and New Zealand, which lie even farther to the east of Europe than much of East Asia.'), Document(metadata={'title': 'Hair iron', 'article_id': '86329'}, page_content=\"A hair iron or hair tong is something people use to change the shape of the hair by heating it. There are three types of hair iron: In 1872, Marcel Grateau (a Parisian) used heated rods to curl or style hair. In 1893, Ada Harris, a school teacher from Indianapolis, applied for a patent for the hair straightener. The hair straightener was a device “heated like a curling iron” with two flat faces held together by a hinge . It was said that when the faces press the hair, it will become straight.” Harris's invention also had a comb, which would keep different parts of the hair separated.\"), Document(metadata={'title': 'Chakra', 'article_id': '86364'}, page_content=\"A chakra is an energy center in the human body as taught in Indian yoga and some related cultures. Chakras are also believed in by some New Age adherents. Chakra means ‘Aneel or wheel' in Sanskrit. A chakra is an area in the body connected with life energy. There are seven chakras in the body - each is an interface for the flow of life energy. A chakra vitalizes a physical body and is associated with interactions of a physical or mental nature. Current science is not able to detect or measure chakras. Although there are various interpretations as to what exactly a chakra is, the following features are common in all systems:\")]\n"
     ]
    }
   ],
   "source": [
    "import gzip\n",
    "import json\n",
    "from langchain.docstore.document import Document\n",
    "from langchain.text_splitter import RecursiveCharacterTextSplitter\n",
    "\n",
    "wikipedia_filepath = r\"D:\\Ineuron-materials-FSDS\\Gen AI\\Learning-langgraph\\data\\simplewiki-2020-11-01.jsonl.gz\"\n",
    "\n",
    "docs = []\n",
    "with gzip.open(wikipedia_filepath, \"rt\", encoding=\"utf8\") as fIn:\n",
    "    for line in fIn:\n",
    "        data = json.loads(line.strip())\n",
    "        docs.append({\n",
    "            \"metadata\": {\n",
    "                \"title\": data.get(\"title\"),\n",
    "                \"article_id\": data.get(\"id\"),\n",
    "            },\n",
    "            \"data\": \" \".join(data.get(\"paragraphs\")[0:3])  # restrict to 3 paragraphs\n",
    "        })\n",
    "\n",
    "# Filter docs containing 'india'\n",
    "docs = [doc for doc in docs if \"india\" in doc[\"data\"].lower()]\n",
    "\n",
    "# Convert to LangChain Document objects\n",
    "docs = [\n",
    "    Document(page_content=doc[\"data\"], metadata=doc[\"metadata\"])\n",
    "    for doc in docs\n",
    "]\n",
    "\n",
    "# Chunk docs\n",
    "splitter = RecursiveCharacterTextSplitter(chunk_size=2000, chunk_overlap=300)\n",
    "chunked_docs = splitter.split_documents(docs)\n",
    "\n",
    "# Inspect first 3 chunks\n",
    "print(chunked_docs[:3])\n"
   ]
  },
  {
   "cell_type": "markdown",
   "id": "553d0643",
   "metadata": {},
   "source": [
    "### Create a Vector DB and Persist on the Disk"
   ]
  },
  {
   "cell_type": "code",
   "execution_count": 2,
   "id": "549a1727",
   "metadata": {},
   "outputs": [
    {
     "name": "stderr",
     "output_type": "stream",
     "text": [
      "d:\\Ineuron-materials-FSDS\\Gen AI\\Learning-langgraph\\langgraph\\Lib\\site-packages\\tqdm\\auto.py:21: TqdmWarning: IProgress not found. Please update jupyter and ipywidgets. See https://ipywidgets.readthedocs.io/en/stable/user_install.html\n",
      "  from .autonotebook import tqdm as notebook_tqdm\n"
     ]
    }
   ],
   "source": [
    "from langchain_google_genai import GoogleGenerativeAIEmbeddings\n",
    "import os\n",
    "def get_api_key(api_key_name):\n",
    "        return os.getenv(api_key_name)\n",
    "\n",
    "# embedding_model = GoogleGenerativeAIEmbeddings(\n",
    "#             model=\"models/embedding-001\",\n",
    "#             google_api_key=get_api_key(\"GOOGLE_API_KEY\")\n",
    "#)\n",
    "from langchain_openai import OpenAIEmbeddings\n",
    "# details here: https://openai.com/blog/new-embedding-models-and-api-updates\n",
    "openai_embed_model = OpenAIEmbeddings(model='text-embedding-3-small')"
   ]
  },
  {
   "cell_type": "code",
   "execution_count": null,
   "id": "853cede7",
   "metadata": {},
   "outputs": [],
   "source": [
    "from langchain_chroma import Chroma\n",
    "# create vector DB of docs and embeddings - takes < 30s on Colab\n",
    "import shutil\n",
    "\n",
    "# Delete the old DB that was created with 768\n",
    "#shutil.rmtree(\"./wikipedia_db\", ignore_errors=True)\n",
    "persist_dir = \"./wikipedia_db\"\n",
    "# Rebuild DB with your current embedding model (1536-dim OpenAI)\n",
    "# chroma_db = Chroma.from_documents(\n",
    "#     documents=chunked_docs,\n",
    "#     collection_name=\"rag_wikipedia_db\",\n",
    "#     embedding=openai_embed_model,\n",
    "#     collection_metadata={\"hnsw:space\": \"cosine\"},\n",
    "#     persist_directory=\"./wikipedia_db\"\n",
    "# )\n",
    "# Check if the vector DB already exists\n",
    "from langchain_chroma import Chroma\n",
    "import os\n",
    "persist_dir = \"./wikipedia_db\"\n",
    "\n",
    "if os.path.exists(persist_dir) and os.listdir(persist_dir):\n",
    "    # Load existing DB — do NOT pass embedding here\n",
    "    chroma_db = Chroma(\n",
    "        collection_name=\"rag_wikipedia_db\",\n",
    "        persist_directory=persist_dir\n",
    "    )\n",
    "else:\n",
    "    # Create DB for the first time\n",
    "    chroma_db = Chroma.from_documents(\n",
    "        documents=chunked_docs,\n",
    "        collection_name=\"rag_wikipedia_db\",\n",
    "        embedding=openai_embed_model,\n",
    "        collection_metadata={\"hnsw:space\": \"cosine\"},\n",
    "        persist_directory=persist_dir\n",
    "    )\n",
    "    chroma_db.persist()\n"
   ]
  },
  {
   "cell_type": "code",
   "execution_count": null,
   "id": "f93d0a6f",
   "metadata": {},
   "outputs": [],
   "source": []
  },
  {
   "cell_type": "code",
   "execution_count": 4,
   "id": "238bba01",
   "metadata": {},
   "outputs": [
    {
     "data": {
      "text/plain": [
       "[Document(id='21baa11d-58bf-4012-a8d1-9a8d1fc4cc5a', metadata={'title': 'New Delhi', 'article_id': '5117'}, page_content='New Delhi () is the capital of India and a union territory of the megacity of Delhi. It has a very old history and is home to several monuments where the city is expensive to live in. In traditional Indian geography it falls under the North Indian zone. The city has an area of about 42.7\\xa0km. New Delhi has a population of about 9.4 Million people.'),\n",
       " Document(id='62b41862-09e6-4608-a506-e35fe74a3a18', metadata={'article_id': '5114', 'title': 'Mumbai'}, page_content=\"Mumbai (previously known as Bombay until 1996) is a natural harbor on the west coast of India, and is the capital city of Maharashtra state. It is India's largest city, and one of the world's most populous cities. It is the financial capital of India. The city is the second most-populous in the world. It has approximately 13 million people. Along with the neighboring cities of Navi Mumbai and Thane, it forms the world's 4th largest urban agglomeration. They have around 19.1 million people. The seven islands that form Bombay were home to fishing colonies. The islands were ruled by successive kingdoms and indigenous empires before Portuguese settlers took it. Then, it went to the British East India Company. During the mid-18th century, Bombay became a major trading town. It became a strong place for the Indian independence movement during the early 20th century. When India became independent in 1947, the city was put into Bombay State. In 1960, following the Samyukta Maharashtra movement, a new state of Maharashtra was created with Bombay as the capital. It was renamed Mumbai in 1996. Mumbai generates more than 6% of India's GDP. It accounts for 25% of industrial output, 40% of sea trade, and 70% of capital to India's economy. The Reserve Bank of India, the Bombay Stock Exchange, the National Stock Exchange of India and many Indian companies and multinational corporations are in the city. It also has the Hindi film and television industry, known as Bollywood.\"),\n",
       " Document(id='2d737581-fa54-4710-9a65-b0ced19c0182', metadata={'article_id': '22215', 'title': 'States and union territories of India'}, page_content='The Republic of India is divided into twenty-eight States,and eight union territories including the National Capital Territory.')]"
      ]
     },
     "execution_count": 4,
     "metadata": {},
     "output_type": "execute_result"
    }
   ],
   "source": [
    "similarity_threshold_retriever = chroma_db.as_retriever(search_type=\"similarity_score_threshold\",\n",
    "\t\t\t\t\t\tsearch_kwargs={\"k\": 3,\n",
    "\t\t\t\t\t\t\"score_threshold\": 0.3})\n",
    "#We can then test if our retriever is working on some sample queries.\n",
    "query = \"what is the capital of India?\"\n",
    "top3_docs = similarity_threshold_retriever.invoke(query)\n",
    "top3_docs"
   ]
  },
  {
   "cell_type": "code",
   "execution_count": 5,
   "id": "c29e3869",
   "metadata": {},
   "outputs": [
    {
     "data": {
      "text/plain": [
       "[Document(id='12828a68-1e1b-4813-8f27-93aaf2c833ea', metadata={'title': 'Langur', 'article_id': '97946'}, page_content='The Gray langur or Hanuman langur (Semnopithecus) is a genus of colobine monkey. They are found in southeast Asia. The word \"langur\" means \\'having a long tail\\'. It is commonly called the leaf monkey. They usually live in small groups of between 2 and 10 individuals. They mainly eat leaves, as well as some fruit. Langur spend most of their time in trees. They have white fur and black faces. They are considered sacred animals therefore the \"National social mammal of India\".'),\n",
       " Document(id='12453f7a-c392-400c-a37f-24b58a04272a', metadata={'title': 'Larkana', 'article_id': '145104'}, page_content='Larkana or Larkano (لاڑکانہ) is city of Sindh Province, Pakistan. The city is the capital of Larkana District. In August 2000 Larkana celebrated its hundred years of existence. It is located on the south bank of the Ghar canal, 40 miles south of Shikarpur town, and 36 north-east of Mehar. During British rule Larkana became headquarters of Larkana District and Larkana Taluka – and for a time was part of the Bombay Presidency of British India. Also the North-Western Railway passed through the town. The population according to the 1901 census was 14,543. Sindhi is the main language but Siraikis, a dialect of Sindhi which is similar to the Sindhi language, is also spoken. Sindhi and English are the official languages.'),\n",
       " Document(id='4179bead-0e2e-4544-9c42-fbba0943600a', metadata={'article_id': '776440', 'title': 'Lahai'}, page_content='Lahai is a village in Pathanamthitta district, Kerala state,India. Malayalam is the native language of Lahai. Most of the regions in Lahai are covered by forest.')]"
      ]
     },
     "execution_count": 5,
     "metadata": {},
     "output_type": "execute_result"
    }
   ],
   "source": [
    "query = \"what is langgraph?\"\n",
    "top3_docs = similarity_threshold_retriever.invoke(query)\n",
    "top3_docs"
   ]
  },
  {
   "cell_type": "code",
   "execution_count": 20,
   "id": "3f70a409",
   "metadata": {},
   "outputs": [],
   "source": [
    "# from langchain_groq import ChatGroq\n",
    "# llm =ChatGroq(\n",
    "#     api_key = get_api_key(\"GROQ_API_KEY\") ,\n",
    "#     model = \"llama-3.1-8b-instant\",\n",
    "#     temperature =0.4 ,\n",
    "#     max_retries =3\n",
    "# )\n",
    "# print(llm)"
   ]
  },
  {
   "cell_type": "code",
   "execution_count": 8,
   "id": "c0255ad7",
   "metadata": {},
   "outputs": [
    {
     "name": "stderr",
     "output_type": "stream",
     "text": [
      "d:\\Ineuron-materials-FSDS\\Gen AI\\Learning-langgraph\\langgraph\\Lib\\site-packages\\langchain_openai\\chat_models\\base.py:1914: UserWarning: Received a Pydantic BaseModel V1 schema. This is not supported by method=\"json_schema\". Please use method=\"function_calling\" or specify schema via JSON Schema or Pydantic V2 BaseModel. Overriding to method=\"function_calling\".\n",
      "  warnings.warn(\n"
     ]
    }
   ],
   "source": [
    "from langchain_core.prompts import ChatPromptTemplate\n",
    "from langchain_core.pydantic_v1 import BaseModel, Field\n",
    "from langchain_openai import ChatOpenAI\n",
    "\n",
    "# Data model for LLM output format\n",
    "class GradeDocuments(BaseModel):\n",
    "    \"\"\"Binary score for relevance check on retrieved documents.\"\"\"\n",
    "    binary_score: str = Field(\n",
    "        description=\"Documents are relevant to the question, 'yes' or 'no'\"\n",
    "    )\n",
    "\n",
    "# LLM for grading\n",
    "llm = ChatOpenAI(model=\"gpt-5-nano\", temperature=0)\n",
    "structured_llm_grader = llm.with_structured_output(GradeDocuments)\n",
    "\n",
    "# Prompt template for grading\n",
    "SYS_PROMPT = \"\"\"You are an expert grader assessing relevance of a retrieved document to a user question.\n",
    "Follow these instructions for grading:\n",
    "  - If the document contains keyword(s) or semantic meaning related to the question, grade it as relevant.\n",
    "  - Your grade should be either 'yes' or 'no' to indicate whether the document is relevant to the question or not.\"\"\"\n",
    "\n",
    "grade_prompt = ChatPromptTemplate.from_messages(\n",
    "    [\n",
    "        (\"system\", SYS_PROMPT),\n",
    "        (\"human\", \"\"\"Retrieved document:\n",
    "{document}\n",
    "User question:\n",
    "{question}\n",
    "\"\"\"),\n",
    "    ]\n",
    ")\n",
    "\n",
    "# Build grader chain\n",
    "doc_grader = grade_prompt | structured_llm_grader\n"
   ]
  },
  {
   "cell_type": "code",
   "execution_count": null,
   "id": "6be9da29",
   "metadata": {},
   "outputs": [],
   "source": []
  },
  {
   "cell_type": "code",
   "execution_count": 9,
   "id": "89e3042e",
   "metadata": {},
   "outputs": [
    {
     "name": "stdout",
     "output_type": "stream",
     "text": [
      "New Delhi () is the capital of India and a union territory of the megacity of Delhi. It has a very old history and is home to several monuments where the city is expensive to live in. In traditional Indian geography it falls under the North Indian zone. The city has an area of about 42.7 km. New Delhi has a population of about 9.4 Million people.\n",
      "GRADE: binary_score='yes'\n",
      "\n",
      "Mumbai (previously known as Bombay until 1996) is a natural harbor on the west coast of India, and is the capital city of Maharashtra state. It is India's largest city, and one of the world's most populous cities. It is the financial capital of India. The city is the second most-populous in the world. It has approximately 13 million people. Along with the neighboring cities of Navi Mumbai and Thane, it forms the world's 4th largest urban agglomeration. They have around 19.1 million people. The seven islands that form Bombay were home to fishing colonies. The islands were ruled by successive kingdoms and indigenous empires before Portuguese settlers took it. Then, it went to the British East India Company. During the mid-18th century, Bombay became a major trading town. It became a strong place for the Indian independence movement during the early 20th century. When India became independent in 1947, the city was put into Bombay State. In 1960, following the Samyukta Maharashtra movement, a new state of Maharashtra was created with Bombay as the capital. It was renamed Mumbai in 1996. Mumbai generates more than 6% of India's GDP. It accounts for 25% of industrial output, 40% of sea trade, and 70% of capital to India's economy. The Reserve Bank of India, the Bombay Stock Exchange, the National Stock Exchange of India and many Indian companies and multinational corporations are in the city. It also has the Hindi film and television industry, known as Bollywood.\n",
      "GRADE: binary_score='yes'\n",
      "\n",
      "The Republic of India is divided into twenty-eight States,and eight union territories including the National Capital Territory.\n",
      "GRADE: binary_score='yes'\n",
      "\n"
     ]
    }
   ],
   "source": [
    "query = \"what is the capital of India?\"\n",
    "top3_docs = similarity_threshold_retriever.invoke(query)\n",
    "\n",
    "for doc in top3_docs:\n",
    "    print(doc.page_content)\n",
    "    print('GRADE:', doc_grader.invoke({\n",
    "        \"question\": query,\n",
    "        \"document\": doc.page_content\n",
    "    }))\n",
    "    print()\n"
   ]
  },
  {
   "cell_type": "code",
   "execution_count": null,
   "id": "d090363a",
   "metadata": {},
   "outputs": [],
   "source": [
    "from langchain_core.prompts import ChatPromptTemplate\n",
    "from langchain_openai import ChatOpenAI\n",
    "from langchain_core.runnables import RunnablePassthrough, RunnableLambda\n",
    "from langchain_core.output_parsers import StrOutputParser\n",
    "from operator import itemgetter\n",
    "\n",
    "# Create RAG prompt for response generation\n",
    "prompt = \"\"\"You are an assistant for question-answering tasks.\n",
    "Use the following pieces of retrieved context to answer the question.\n",
    "If no context is present or if you don't know the answer, just say that you don't know the answer.\n",
    "Do not make up the answer unless it is there in the provided context.\n",
    "Give a detailed answer and to the point answer with regard to the question.\n",
    "Question:\n",
    "{question}\n",
    "Context:\n",
    "{context}\n",
    "Answer:\n",
    "\"\"\"\n",
    "\n",
    "prompt_template = ChatPromptTemplate.from_template(prompt)\n",
    "\n",
    "# Initialize connection with GPT-4o\n",
    "chatgpt = ChatOpenAI(model_name='gpt-5-nano', temperature=0)\n",
    "\n",
    "# Used for separating context docs with new lines\n",
    "def format_docs(docs):\n",
    "    return \"\\n\\n\".join(doc.page_content for doc in docs)\n",
    "\n",
    "# Create QA RAG chain\n",
    "qa_rag_chain = (\n",
    "    {\n",
    "        \"context\": (itemgetter('context') | RunnableLambda(format_docs)),\n",
    "        \"question\": itemgetter('question')\n",
    "    }\n",
    "    | prompt_template\n",
    "    | chatgpt\n",
    "    | StrOutputParser()\n",
    ")\n"
   ]
  },
  {
   "cell_type": "code",
   "execution_count": 11,
   "id": "c92e9537",
   "metadata": {},
   "outputs": [
    {
     "name": "stdout",
     "output_type": "stream",
     "text": [
      "New Delhi.\n"
     ]
    }
   ],
   "source": [
    "query = \"what is the capital of India?\"\n",
    "\n",
    "top3_docs = similarity_threshold_retriever.invoke(query)\n",
    "\n",
    "result = qa_rag_chain.invoke(\n",
    "    {\"context\": top3_docs, \"question\": query}\n",
    ")\n",
    "\n",
    "print(result)\n"
   ]
  },
  {
   "cell_type": "code",
   "execution_count": 12,
   "id": "8683bb05",
   "metadata": {},
   "outputs": [
    {
     "name": "stdout",
     "output_type": "stream",
     "text": [
      "I don’t know the answer from the provided context. The supplied material only covers cricket and baseball and does not mention the UEFA Champions League or its 2024 winner. If you’d like, I can help look up the result.\n"
     ]
    }
   ],
   "source": [
    "query = \"who won the champions league in 2024?\"\n",
    "\n",
    "top3_docs = similarity_threshold_retriever.invoke(query)\n",
    "\n",
    "result = qa_rag_chain.invoke(\n",
    "    {\"context\": top3_docs, \"question\": query}\n",
    ")\n",
    "\n",
    "print(result)\n"
   ]
  },
  {
   "cell_type": "code",
   "execution_count": 13,
   "id": "0ec0a61b",
   "metadata": {},
   "outputs": [],
   "source": [
    "# LLM for question rewriting\n",
    "llm = ChatOpenAI(model=\"gpt-5-nano\", temperature=0)\n",
    "\n",
    "# Prompt template for rewriting\n",
    "SYS_PROMPT = \"\"\"Act as a question re-writer and perform the following task:\n",
    "                 - Convert the following input question to a better version that is optimized for web search.\n",
    "                 - When re-writing, look at the input question and try to reason about the underlying semantic intent / meaning.\n",
    "             \"\"\"\n",
    "\n",
    "re_write_prompt = ChatPromptTemplate.from_messages(\n",
    "    [\n",
    "        (\n",
    "            \"system\",\n",
    "            SYS_PROMPT\n",
    "        ),\n",
    "        (\n",
    "            \"human\",\n",
    "            \"\"\"Here is the initial question:\n",
    "               {question}\n",
    "               Formulate an improved question.\n",
    "            \"\"\",\n",
    "        ),\n",
    "    ]\n",
    ")\n",
    "\n",
    "# Create rephraser chain\n",
    "question_rewriter = (\n",
    "    re_write_prompt\n",
    "    | llm\n",
    "    | StrOutputParser()\n",
    ")\n"
   ]
  },
  {
   "cell_type": "code",
   "execution_count": 14,
   "id": "ca1bcbb6",
   "metadata": {},
   "outputs": [
    {
     "data": {
      "text/plain": [
       "'Who won the UEFA Champions League in the 2023–24 season?'"
      ]
     },
     "execution_count": 14,
     "metadata": {},
     "output_type": "execute_result"
    }
   ],
   "source": [
    "query = \"who won the champions league in 2024?\"\n",
    "question_rewriter.invoke({\"question\": query})"
   ]
  },
  {
   "cell_type": "code",
   "execution_count": 15,
   "id": "f96fd7ce",
   "metadata": {},
   "outputs": [
    {
     "name": "stderr",
     "output_type": "stream",
     "text": [
      "C:\\Users\\NABEEL AHMED\\AppData\\Local\\Temp\\ipykernel_27896\\3206506337.py:2: LangChainDeprecationWarning: The class `TavilySearchResults` was deprecated in LangChain 0.3.25 and will be removed in 1.0. An updated version of the class exists in the :class:`~langchain-tavily package and should be used instead. To use it run `pip install -U :class:`~langchain-tavily` and import as `from :class:`~langchain_tavily import TavilySearch``.\n",
      "  tv_search = TavilySearchResults(max_results=3, search_depth='advanced',max_tokens=10000)\n"
     ]
    }
   ],
   "source": [
    "from langchain_community.tools.tavily_search import TavilySearchResults\n",
    "tv_search = TavilySearchResults(max_results=3, search_depth='advanced',max_tokens=10000)"
   ]
  },
  {
   "cell_type": "code",
   "execution_count": 16,
   "id": "80b63534",
   "metadata": {},
   "outputs": [],
   "source": [
    "from typing import List\n",
    "from typing_extensions import TypedDict\n",
    "\n",
    "class GraphState(TypedDict):\n",
    "    \"\"\"\n",
    "    Represents the state of our graph.\n",
    "\n",
    "    Attributes:\n",
    "        question: question\n",
    "        generation: LLM response generation\n",
    "        web_search_needed: flag of whether to add web search - yes or no\n",
    "        documents: list of context documents\n",
    "    \"\"\"\n",
    "    question: str\n",
    "    generation: str\n",
    "    web_search_needed: str\n",
    "    documents: List[str]\n"
   ]
  },
  {
   "cell_type": "code",
   "execution_count": 17,
   "id": "1674d10b",
   "metadata": {},
   "outputs": [],
   "source": [
    "def retrieve(state):\n",
    "    \"\"\"\n",
    "    Retrieve documents\n",
    "    Args:\n",
    "        state (dict): The current graph state\n",
    "    Returns:\n",
    "        state (dict): New key added to state, documents - that contains retrieved context documents\n",
    "    \"\"\"\n",
    "    print(\"---RETRIEVAL FROM VECTOR DB---\")\n",
    "    question = state[\"question\"]\n",
    "    # Retrieval\n",
    "    documents = similarity_threshold_retriever.invoke(question)\n",
    "    return {\"documents\": documents, \"question\": question}\n"
   ]
  },
  {
   "cell_type": "code",
   "execution_count": 18,
   "id": "d7cd5d00",
   "metadata": {},
   "outputs": [],
   "source": [
    "def grade_documents(state):\n",
    "    \"\"\"\n",
    "    Determines whether the retrieved documents are relevant to the question\n",
    "    by using an LLM Grader.\n",
    "    If any document are not relevant to question or documents are empty - Web Search needs to be done\n",
    "    If all documents are relevant to question - Web Search is not needed\n",
    "    Helps filtering out irrelevant documents\n",
    "    Args:\n",
    "        state (dict): The current graph state\n",
    "    Returns:\n",
    "        state (dict): Updates documents key with only filtered relevant documents\n",
    "    \"\"\"\n",
    "    print(\"---CHECK DOCUMENT RELEVANCE TO QUESTION---\")\n",
    "    question = state[\"question\"]\n",
    "    documents = state[\"documents\"]\n",
    "\n",
    "    # Score each doc\n",
    "    filtered_docs = []\n",
    "    web_search_needed = \"No\"\n",
    "\n",
    "    if documents:\n",
    "        for d in documents:\n",
    "            score = doc_grader.invoke(\n",
    "                {\"question\": question, \"document\": d.page_content}\n",
    "            )\n",
    "            grade = score.binary_score\n",
    "            if grade == \"yes\":\n",
    "                print(\"---GRADE: DOCUMENT RELEVANT---\")\n",
    "                filtered_docs.append(d)\n",
    "            else:\n",
    "                print(\"---GRADE: DOCUMENT NOT RELEVANT---\")\n",
    "                web_search_needed = \"Yes\"\n",
    "                continue\n",
    "    else:\n",
    "        print(\"---NO DOCUMENTS RETRIEVED---\")\n",
    "        web_search_needed = \"Yes\"\n",
    "\n",
    "    return {\n",
    "        \"documents\": filtered_docs,\n",
    "        \"question\": question,\n",
    "        \"web_search_needed\": web_search_needed,\n",
    "    }\n"
   ]
  },
  {
   "cell_type": "code",
   "execution_count": 19,
   "id": "d68cc23a",
   "metadata": {},
   "outputs": [],
   "source": [
    "def rewrite_query(state):\n",
    "    \"\"\"\n",
    "    Rewrite the query to produce a better question.\n",
    "    Args:\n",
    "        state (dict): The current graph state\n",
    "    Returns:\n",
    "        state (dict): Updates question key with a re-phrased or re-written question\n",
    "    \"\"\"\n",
    "    print(\"---REWRITE QUERY---\")\n",
    "    question = state[\"question\"]\n",
    "    documents = state[\"documents\"]\n",
    "\n",
    "    # Re-write question\n",
    "    better_question = question_rewriter.invoke({\"question\": question})\n",
    "\n",
    "    return {\n",
    "        \"documents\": documents,\n",
    "        \"question\": better_question,\n",
    "    }\n"
   ]
  },
  {
   "cell_type": "code",
   "execution_count": 20,
   "id": "516a32db",
   "metadata": {},
   "outputs": [],
   "source": [
    "from langchain.schema import Document\n",
    "\n",
    "def web_search(state):\n",
    "    \"\"\"\n",
    "    Web search based on the re-written question.\n",
    "    Args:\n",
    "        state (dict): The current graph state\n",
    "    Returns:\n",
    "        state (dict): Updates documents key with appended web results\n",
    "    \"\"\"\n",
    "    print(\"---WEB SEARCH---\")\n",
    "    question = state[\"question\"]\n",
    "    documents = state[\"documents\"]\n",
    "\n",
    "    # Web search\n",
    "    docs = tv_search.invoke(question)\n",
    "    web_results = \"\\n\\n\".join([d[\"content\"] for d in docs])\n",
    "    web_results = Document(page_content=web_results)\n",
    "    documents.append(web_results)\n",
    "\n",
    "    return {\n",
    "        \"documents\": documents,\n",
    "        \"question\": question,\n",
    "    }\n"
   ]
  },
  {
   "cell_type": "code",
   "execution_count": 21,
   "id": "3e62b0b8",
   "metadata": {},
   "outputs": [],
   "source": [
    "def generate_answer(state):\n",
    "    \"\"\"\n",
    "    Generate answer from context document using LLM\n",
    "    Args:\n",
    "        state (dict): The current graph state\n",
    "    Returns:\n",
    "        state (dict): New key added to state, generation, that contains LLM generation\n",
    "    \"\"\"\n",
    "    print(\"---GENERATE ANSWER---\")\n",
    "    question = state[\"question\"]\n",
    "    documents = state[\"documents\"]\n",
    "\n",
    "    # RAG generation\n",
    "    generation = qa_rag_chain.invoke({\"context\": documents, \"question\": question})\n",
    "\n",
    "    return {\n",
    "        \"documents\": documents,\n",
    "        \"question\": question,\n",
    "        \"generation\": generation,\n",
    "    }\n"
   ]
  },
  {
   "cell_type": "code",
   "execution_count": 22,
   "id": "0dd6ffdf",
   "metadata": {},
   "outputs": [],
   "source": [
    "def decide_to_generate(state):\n",
    "    \"\"\"\n",
    "    Determines whether to generate an answer, or re-generate a question.\n",
    "    Args:\n",
    "        state (dict): The current graph state\n",
    "    Returns:\n",
    "        str: Binary decision for next node to call\n",
    "    \"\"\"\n",
    "    print(\"---ASSESS GRADED DOCUMENTS---\")\n",
    "    web_search_needed = state[\"web_search_needed\"]\n",
    "\n",
    "    if web_search_needed == \"Yes\":\n",
    "        # Some or all documents are not relevant\n",
    "        print(\"---DECISION: SOME or ALL DOCUMENTS ARE NOT RELEVANT TO QUESTION, REWRITE QUERY---\")\n",
    "        return \"rewrite_query\"\n",
    "    else:\n",
    "        # All documents are relevant\n",
    "        print(\"---DECISION: GENERATE RESPONSE---\")\n",
    "        return \"generate_answer\"\n"
   ]
  },
  {
   "cell_type": "code",
   "execution_count": 23,
   "id": "86567d4f",
   "metadata": {},
   "outputs": [],
   "source": [
    "from langgraph.graph import END, StateGraph\n",
    "\n",
    "agentic_rag = StateGraph(GraphState)\n",
    "\n",
    "# Define the nodes\n",
    "agentic_rag.add_node(\"retrieve\", retrieve)  # retrieve\n",
    "agentic_rag.add_node(\"grade_documents\", grade_documents)  # grade documents\n",
    "agentic_rag.add_node(\"rewrite_query\", rewrite_query)  # transform_query\n",
    "agentic_rag.add_node(\"web_search\", web_search)  # web search\n",
    "agentic_rag.add_node(\"generate_answer\", generate_answer)  # generate answer\n",
    "\n",
    "# Build graph\n",
    "agentic_rag.set_entry_point(\"retrieve\")\n",
    "agentic_rag.add_edge(\"retrieve\", \"grade_documents\")\n",
    "\n",
    "agentic_rag.add_conditional_edges(\n",
    "    \"grade_documents\",\n",
    "    decide_to_generate,\n",
    "    {\"rewrite_query\": \"rewrite_query\", \"generate_answer\": \"generate_answer\"},\n",
    ")\n",
    "\n",
    "agentic_rag.add_edge(\"rewrite_query\", \"web_search\")\n",
    "agentic_rag.add_edge(\"web_search\", \"generate_answer\")\n",
    "agentic_rag.add_edge(\"generate_answer\", END)\n",
    "\n",
    "# Compile\n",
    "agentic_rag = agentic_rag.compile()\n"
   ]
  },
  {
   "cell_type": "code",
   "execution_count": 24,
   "id": "7600ea06",
   "metadata": {},
   "outputs": [
    {
     "data": {
      "image/png": "[encoded data removed]",
      "text/plain": [
       "<IPython.core.display.Image object>"
      ]
     },
     "metadata": {},
     "output_type": "display_data"
    }
   ],
   "source": [
    "from IPython.display import Image, display, Markdown\n",
    "display(Image(agentic_rag.get_graph().draw_mermaid_png()))"
   ]
  },
  {
   "cell_type": "code",
   "execution_count": 25,
   "id": "85b22f88",
   "metadata": {},
   "outputs": [
    {
     "name": "stdout",
     "output_type": "stream",
     "text": [
      "---RETRIEVAL FROM VECTOR DB---\n",
      "---CHECK DOCUMENT RELEVANCE TO QUESTION---\n",
      "---GRADE: DOCUMENT RELEVANT---\n",
      "---GRADE: DOCUMENT RELEVANT---\n",
      "---GRADE: DOCUMENT RELEVANT---\n",
      "---ASSESS GRADED DOCUMENTS---\n",
      "---DECISION: GENERATE RESPONSE---\n",
      "---GENERATE ANSWER---\n"
     ]
    }
   ],
   "source": [
    "query = \"what is the capital of India?\"\n",
    "response = agentic_rag.invoke({\"question\": query})"
   ]
  },
  {
   "cell_type": "code",
   "execution_count": 26,
   "id": "50d755c8",
   "metadata": {},
   "outputs": [
    {
     "data": {
      "text/markdown": [
       "New Delhi. It is the capital of India and a union territory within the megacity of Delhi."
      ],
      "text/plain": [
       "<IPython.core.display.Markdown object>"
      ]
     },
     "metadata": {},
     "output_type": "display_data"
    }
   ],
   "source": [
    "display(Markdown(response['generation']))"
   ]
  },
  {
   "cell_type": "code",
   "execution_count": 27,
   "id": "1f052804",
   "metadata": {},
   "outputs": [
    {
     "name": "stdout",
     "output_type": "stream",
     "text": [
      "---RETRIEVAL FROM VECTOR DB---\n",
      "---CHECK DOCUMENT RELEVANCE TO QUESTION---\n",
      "---GRADE: DOCUMENT NOT RELEVANT---\n",
      "---GRADE: DOCUMENT NOT RELEVANT---\n",
      "---ASSESS GRADED DOCUMENTS---\n",
      "---DECISION: SOME or ALL DOCUMENTS ARE NOT RELEVANT TO QUESTION, REWRITE QUERY---\n",
      "---REWRITE QUERY---\n",
      "---WEB SEARCH---\n",
      "---GENERATE ANSWER---\n"
     ]
    }
   ],
   "source": [
    "query = \"who won the champions league in 2024?\"\n",
    "response = agentic_rag.invoke({\"question\": query})"
   ]
  },
  {
   "cell_type": "code",
   "execution_count": 28,
   "id": "7fd76aa4",
   "metadata": {},
   "outputs": [
    {
     "data": {
      "text/markdown": [
       "- 2023–24 UEFA Champions League title winner: Real Madrid.\n",
       "- 2024 UEFA Champions League final winner: Real Madrid.\n",
       "- 2024 final score: Real Madrid 2–0 Borussia Dortmund."
      ],
      "text/plain": [
       "<IPython.core.display.Markdown object>"
      ]
     },
     "metadata": {},
     "output_type": "display_data"
    }
   ],
   "source": [
    "display(Markdown(response['generation']))"
   ]
  },
  {
   "cell_type": "code",
   "execution_count": 29,
   "id": "35782074",
   "metadata": {},
   "outputs": [
    {
     "name": "stdout",
     "output_type": "stream",
     "text": [
      "---RETRIEVAL FROM VECTOR DB---\n",
      "---CHECK DOCUMENT RELEVANCE TO QUESTION---\n",
      "---GRADE: DOCUMENT RELEVANT---\n",
      "---GRADE: DOCUMENT RELEVANT---\n",
      "---GRADE: DOCUMENT RELEVANT---\n",
      "---ASSESS GRADED DOCUMENTS---\n",
      "---DECISION: GENERATE RESPONSE---\n",
      "---GENERATE ANSWER---\n"
     ]
    },
    {
     "data": {
      "text/markdown": [
       "Here is a concise overview of India based on the provided context:\n",
       "\n",
       "- Location and geography\n",
       "  - India is a country in Asia, at the center of South Asia. It is a peninsula bounded by the Indian Ocean (south), the Arabian Sea (west), and the Bay of Bengal (east).\n",
       "  - It is the seventh largest country in the world by area and the largest country in South Asia. The coastline is described in the text but a specific length isn’t provided.\n",
       "\n",
       "- Population and governance\n",
       "  - Population: more than 1.2 billion people, the second largest population in the world.\n",
       "  - It is the most populous democracy in the world.\n",
       "  - The capital city is New Delhi.\n",
       "\n",
       "- Neighbors\n",
       "  - India has seven neighbors: Pakistan (northwest), China and Nepal (north), Bhutan and Bangladesh (northeast), Myanmar (east), and Sri Lanka (south, an island).\n",
       "\n",
       "- Military and defense\n",
       "  - India has the third largest military force in the world.\n",
       "  - It is a nuclear weapon state.\n",
       "\n",
       "- History (highlights)\n",
       "  - The history covers thousands of years with diversity in languages, cultures, periods, and dynasties.\n",
       "  - Civilizational roots trace to the Indus Valley; evidence of early humans (Homo erectus) in India dating 200,000–500,000 years ago.\n",
       "  - The Soanian paleolithic sites are found in the region.\n",
       "\n",
       "- Economy\n",
       "  - The economy is the fifth largest in the world by GDP (about $2.94 trillion).\n",
       "  - PPP (purchasing power parity) basis is about $10.51 trillion, making it the third largest in PPP terms.\n",
       "  - Per capita PPP (2015) was about $6,209 per year.\n",
       "  - Sectors: agriculture, handicrafts, industry, and services, with the service sector as the main source of growth today.\n",
       "  - A large portion of the population earns livelihoods connected to agriculture (two-thirds).\n",
       "  - India became a pioneer in information technology due to a well-educated, English-speaking workforce.\n",
       "  - Historically, the economy had extensive government controls, especially in telecommunications, banking, and foreign investment. Since the early 1990s, it has liberalized and opened up to foreign trade and investment, helping growth. This liberalization began under Prime Minister P. V. Narasimha Rao with the leadership of Manmohan Singh.\n",
       "\n",
       "Overall takeaway: India is a vast, densely populated, historically rich country in South Asia with a diverse economy, strong service and IT sectors, a long-standing democratic system, and significant cultural and linguistic variety."
      ],
      "text/plain": [
       "<IPython.core.display.Markdown object>"
      ]
     },
     "metadata": {},
     "output_type": "display_data"
    }
   ],
   "source": [
    "query = \"Tell me about India\"\n",
    "response = agentic_rag.invoke({\"question\": query})\n",
    "display(Markdown(response['generation']))"
   ]
  },
  {
   "cell_type": "code",
   "execution_count": null,
   "id": "81006750",
   "metadata": {},
   "outputs": [],
   "source": []
  }
 ],
 "metadata": {
  "kernelspec": {
   "display_name": "langgraph",
   "language": "python",
   "name": "python3"
  },
  "language_info": {
   "codemirror_mode": {
    "name": "ipython",
    "version": 3
   },
   "file_extension": ".py",
   "mimetype": "text/x-python",
   "name": "python",
   "nbconvert_exporter": "python",
   "pygments_lexer": "ipython3",
   "version": "3.12.11"
  }
 },
 "nbformat": 4,
 "nbformat_minor": 5
}
