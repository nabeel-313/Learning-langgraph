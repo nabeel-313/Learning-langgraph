{
 "cells": [
  {
   "cell_type": "code",
   "execution_count": 1,
   "id": "5f11f603",
   "metadata": {},
   "outputs": [],
   "source": [
    "import os\n",
    "def get_api_key(api_key_name):\n",
    "    return os.getenv(api_key_name)"
   ]
  },
  {
   "cell_type": "code",
   "execution_count": 2,
   "metadata": {},
   "outputs": [],
   "source": [
    "from typing import Annotated, TypedDict, Literal\n",
    "from langchain_core.messages import HumanMessage\n",
    "from langchain_core.tools import tool\n",
    "from langgraph.checkpoint.memory import MemorySaver\n",
    "from langgraph.graph import END, START, StateGraph, MessagesState\n",
    "from langgraph.prebuilt import ToolNode\n",
    "import requests\n",
    "from langchain.utilities import SerpAPIWrapper\n",
    "from langchain.prompts import PromptTemplate"
   ]
  },
  {
   "cell_type": "code",
   "execution_count": 3,
   "id": "aa35f7a6",
   "metadata": {},
   "outputs": [],
   "source": [
    "from dotenv import find_dotenv, load_dotenv\n",
    "load_dotenv(find_dotenv())\n",
    "google_api = get_api_key(\"GOOGLE_API_KEY\")\n",
    "serp_api = get_api_key(\"SERPAPI_API_KEY\")\n",
    "weather_api = get_api_key(\"OPENWEATHERMAP_API_KEY\")"
   ]
  },
  {
   "cell_type": "code",
   "execution_count": 4,
   "id": "46d40d1a",
   "metadata": {},
   "outputs": [
    {
     "name": "stderr",
     "output_type": "stream",
     "text": [
      "d:\\Ineuron-materials-FSDS\\Gen AI\\Learning-langgraph\\langgraph\\Lib\\site-packages\\tqdm\\auto.py:21: TqdmWarning: IProgress not found. Please update jupyter and ipywidgets. See https://ipywidgets.readthedocs.io/en/stable/user_install.html\n",
      "  from .autonotebook import tqdm as notebook_tqdm\n"
     ]
    }
   ],
   "source": [
    "from langchain_google_genai import ChatGoogleGenerativeAI\n",
    "llm = ChatGoogleGenerativeAI(model=\"gemini-1.5-flash\", temperature=0.3, google_api_key=google_api)"
   ]
  },
  {
   "cell_type": "code",
   "execution_count": null,
   "id": "81119e5b",
   "metadata": {},
   "outputs": [],
   "source": []
  },
  {
   "cell_type": "code",
   "execution_count": 6,
   "id": "06522f38",
   "metadata": {},
   "outputs": [],
   "source": [
    "from pydantic import BaseModel , Field\n",
    "class TopicSelectionParser(BaseModel):\n",
    "    Topic: str = Field(description='Selected Topic')\n",
    "    Reasoning: str = Field(description='Reasoning behind topic selection')\n",
    "    \n",
    "\n",
    "from langchain.output_parsers import PydanticOutputParser\n",
    "parser = PydanticOutputParser(pydantic_object=TopicSelectionParser)\n",
    "\n",
    "\n",
    "def function_1(state):\n",
    "    message=state[\"messages\"]\n",
    "    question=message[-1]\n",
    "    print(question)\n",
    "    \n",
    "    template=\"\"\"\n",
    "    Your task is to understand the query and if asked about wether info then return weather+ location_name else return query\n",
    "\n",
    "    User query: {question}\n",
    "    {format_instructions}\n",
    "    \"\"\"\n",
    "    \n",
    "    prompt = PromptTemplate(template=template,\n",
    "                                    input_variables=[\"question\"],\n",
    "                                    partial_variables={\n",
    "                                        \"format_instructions\" : parser.get_format_instructions()                                    }\n",
    "                                    )\n",
    "    chain =  prompt | llm | parser\n",
    "    \n",
    "    response = chain.invoke({\"question\":question,\"format_instructions\" : parser.get_format_instructions() })\n",
    "\n",
    "    print(response)\n",
    "\n",
    "    return {\"messages\": [response.Topic]}"
   ]
  },
  {
   "cell_type": "code",
   "execution_count": 7,
   "id": "c25f5e8d",
   "metadata": {},
   "outputs": [
    {
     "name": "stdout",
     "output_type": "stream",
     "text": [
      "current weather in pune\n",
      "Topic='weather pune' Reasoning='The query explicitly asks for the current weather in Pune.'\n"
     ]
    },
    {
     "data": {
      "text/plain": [
       "{'messages': ['weather pune']}"
      ]
     },
     "execution_count": 7,
     "metadata": {},
     "output_type": "execute_result"
    }
   ],
   "source": [
    "state={\"messages\": [\"current weather in pune\"]}\n",
    "function_1(state)"
   ]
  },
  {
   "cell_type": "code",
   "execution_count": 8,
   "id": "d639f2ea",
   "metadata": {},
   "outputs": [],
   "source": [
    "def weather_info(state) -> str:\n",
    "    '''\n",
    "    This function with take City name as input and return the weather information of that city\n",
    "    '''\n",
    "    print('-> Calling weather info  ->')\n",
    "    print(state)\n",
    "    location = state.replace(\"weather\", \"\").strip()\n",
    "    print(location)\n",
    "    base_url = \"https://api.openweathermap.org/data/2.5/weather\"\n",
    "    params = {\n",
    "        \"q\": location,\n",
    "        \"appid\": get_api_key(\"OPENWEATHERMAP_API_KEY\"),\n",
    "        \"units\": \"metric\"\n",
    "    }\n",
    "    response = requests.get(base_url, params=params)\n",
    "    \n",
    "    if response.status_code != 200:\n",
    "        return f\"Error fetching weather: {response.text}\"\n",
    "    \n",
    "    data = response.json()\n",
    "    temp = data[\"main\"][\"temp\"]\n",
    "    description = data[\"weather\"][0][\"description\"]\n",
    "    print(\"return statement of weather info --->>>>\")\n",
    "    print(f\"The weather in {location} is {description} with a temperature of {temp}°C.\")\n",
    "    return f\"The weather in {location} is {description} with a temperature of {temp}°C.\"\n",
    "\n",
    "@tool\n",
    "def google_search_tool(query:str):\n",
    "    '''\n",
    "    Useful for answering questions by searching Google.\n",
    "    '''\n",
    "    search = SerpAPIWrapper(serpapi_api_key=get_api_key(\"SERPAPI_API_KEY\"))\n",
    "    out = search.run(query)\n",
    "    print(\"return statement of GST --->>>>\")\n",
    "    print(out)\n",
    "    if isinstance(out, list):\n",
    "        return \"\\n\".join(str(item) for item in out)\n",
    "    return str(out)"
   ]
  },
  {
   "cell_type": "code",
   "execution_count": 9,
   "id": "b8a9e168",
   "metadata": {},
   "outputs": [],
   "source": [
    "tools = [weather_info]\n",
    "tool_node = ToolNode(tools)\n",
    "model = llm"
   ]
  },
  {
   "cell_type": "code",
   "execution_count": null,
   "id": "f98221bd",
   "metadata": {},
   "outputs": [],
   "source": []
  },
  {
   "cell_type": "code",
   "execution_count": 10,
   "id": "01d39453",
   "metadata": {},
   "outputs": [],
   "source": [
    "# Define the function that calls the model\n",
    "def callmodel(state: MessagesState):\n",
    "    print('-> Calling LLM ->')\n",
    "    messages = state['messages']\n",
    "    print(f\"here is message from call model {messages}\")\n",
    "    response = model.invoke(messages)\n",
    "    # We return a list, because this will get added to the existing list\n",
    "    return {\"messages\": state[\"messages\"] + [response]}"
   ]
  },
  {
   "cell_type": "code",
   "execution_count": 11,
   "id": "2e1110bc",
   "metadata": {},
   "outputs": [],
   "source": [
    "def router(state):\n",
    "    print('-> Router ->')\n",
    "    \n",
    "    messages = state[\"messages\"]\n",
    "    last_message = messages[-1]\n",
    "    print(last_message)\n",
    "    if 'weather' in last_message:\n",
    "        return 'weather call'\n",
    "    else:\n",
    "        return 'LLM Call'\n",
    "\n"
   ]
  },
  {
   "cell_type": "code",
   "execution_count": 12,
   "id": "42db0532",
   "metadata": {},
   "outputs": [],
   "source": [
    "from langgraph.graph import StateGraph,END\n",
    "from pydantic import BaseModel\n",
    "from langchain_core.messages import BaseMessage\n",
    "from typing import List\n",
    "\n",
    "class AgentState(BaseModel):\n",
    "    messages: List[BaseMessage]\n",
    "    \n",
    "workflow = StateGraph(AgentState)"
   ]
  },
  {
   "cell_type": "code",
   "execution_count": 13,
   "id": "0c0a3831",
   "metadata": {},
   "outputs": [
    {
     "ename": "ValueError",
     "evalue": "Channel 'messages' already exists with a different type",
     "output_type": "error",
     "traceback": [
      "\u001b[31m---------------------------------------------------------------------------\u001b[39m",
      "\u001b[31mValueError\u001b[39m                                Traceback (most recent call last)",
      "\u001b[36mCell\u001b[39m\u001b[36m \u001b[39m\u001b[32mIn[13]\u001b[39m\u001b[32m, line 3\u001b[39m\n\u001b[32m      1\u001b[39m workflow.add_node(\u001b[33m\"\u001b[39m\u001b[33magentt\u001b[39m\u001b[33m\"\u001b[39m, function_1)\n\u001b[32m      2\u001b[39m workflow.add_node(\u001b[33m\"\u001b[39m\u001b[33mweather_info\u001b[39m\u001b[33m\"\u001b[39m, weather_info)\n\u001b[32m----> \u001b[39m\u001b[32m3\u001b[39m \u001b[43mworkflow\u001b[49m\u001b[43m.\u001b[49m\u001b[43madd_node\u001b[49m\u001b[43m(\u001b[49m\u001b[33;43m\"\u001b[39;49m\u001b[33;43mcallmodel\u001b[39;49m\u001b[33;43m\"\u001b[39;49m\u001b[43m,\u001b[49m\u001b[43m \u001b[49m\u001b[43mcallmodel\u001b[49m\u001b[43m)\u001b[49m\n\u001b[32m      4\u001b[39m workflow.set_entry_point(\u001b[33m\"\u001b[39m\u001b[33magent\u001b[39m\u001b[33m\"\u001b[39m)\n\u001b[32m      5\u001b[39m workflow.add_conditional_edges(\n\u001b[32m      6\u001b[39m     \u001b[33m\"\u001b[39m\u001b[33magentt\u001b[39m\u001b[33m\"\u001b[39m,\n\u001b[32m      7\u001b[39m     router,\n\u001b[32m   (...)\u001b[39m\u001b[32m     11\u001b[39m     }\n\u001b[32m     12\u001b[39m )\n",
      "\u001b[36mFile \u001b[39m\u001b[32md:\\Ineuron-materials-FSDS\\Gen AI\\Learning-langgraph\\langgraph\\Lib\\site-packages\\langgraph\\graph\\state.py:434\u001b[39m, in \u001b[36mStateGraph.add_node\u001b[39m\u001b[34m(self, node, action, defer, metadata, input, retry, cache_policy, destinations)\u001b[39m\n\u001b[32m    431\u001b[39m     ends = destinations\n\u001b[32m    433\u001b[39m \u001b[38;5;28;01mif\u001b[39;00m \u001b[38;5;28minput\u001b[39m \u001b[38;5;129;01mis\u001b[39;00m \u001b[38;5;129;01mnot\u001b[39;00m \u001b[38;5;28;01mNone\u001b[39;00m:\n\u001b[32m--> \u001b[39m\u001b[32m434\u001b[39m     \u001b[38;5;28;43mself\u001b[39;49m\u001b[43m.\u001b[49m\u001b[43m_add_schema\u001b[49m\u001b[43m(\u001b[49m\u001b[38;5;28;43minput\u001b[39;49m\u001b[43m)\u001b[49m\n\u001b[32m    435\u001b[39m \u001b[38;5;28mself\u001b[39m.nodes[cast(\u001b[38;5;28mstr\u001b[39m, node)] = StateNodeSpec(\n\u001b[32m    436\u001b[39m     coerce_to_runnable(action, name=cast(\u001b[38;5;28mstr\u001b[39m, node), trace=\u001b[38;5;28;01mFalse\u001b[39;00m),\n\u001b[32m    437\u001b[39m     metadata,\n\u001b[32m   (...)\u001b[39m\u001b[32m    442\u001b[39m     defer=defer,\n\u001b[32m    443\u001b[39m )\n\u001b[32m    444\u001b[39m \u001b[38;5;28;01mreturn\u001b[39;00m \u001b[38;5;28mself\u001b[39m\n",
      "\u001b[36mFile \u001b[39m\u001b[32md:\\Ineuron-materials-FSDS\\Gen AI\\Learning-langgraph\\langgraph\\Lib\\site-packages\\langgraph\\graph\\state.py:240\u001b[39m, in \u001b[36mStateGraph._add_schema\u001b[39m\u001b[34m(self, schema, allow_managed)\u001b[39m\n\u001b[32m    238\u001b[39m             \u001b[38;5;28;01mpass\u001b[39;00m\n\u001b[32m    239\u001b[39m         \u001b[38;5;28;01melse\u001b[39;00m:\n\u001b[32m--> \u001b[39m\u001b[32m240\u001b[39m             \u001b[38;5;28;01mraise\u001b[39;00m \u001b[38;5;167;01mValueError\u001b[39;00m(\n\u001b[32m    241\u001b[39m                 \u001b[33mf\u001b[39m\u001b[33m\"\u001b[39m\u001b[33mChannel \u001b[39m\u001b[33m'\u001b[39m\u001b[38;5;132;01m{\u001b[39;00mkey\u001b[38;5;132;01m}\u001b[39;00m\u001b[33m'\u001b[39m\u001b[33m already exists with a different type\u001b[39m\u001b[33m\"\u001b[39m\n\u001b[32m    242\u001b[39m             )\n\u001b[32m    243\u001b[39m \u001b[38;5;28;01melse\u001b[39;00m:\n\u001b[32m    244\u001b[39m     \u001b[38;5;28mself\u001b[39m.channels[key] = channel\n",
      "\u001b[31mValueError\u001b[39m: Channel 'messages' already exists with a different type"
     ]
    }
   ],
   "source": [
    "workflow.add_node(\"agentt\", function_1)\n",
    "workflow.add_node(\"weather_info\", weather_info)\n",
    "workflow.add_node(\"callmodel\", callmodel)\n",
    "workflow.set_entry_point(\"agent\")\n",
    "workflow.add_conditional_edges(\n",
    "    \"agentt\",\n",
    "    router,\n",
    "    {\n",
    "        \"weather call\": \"weather_info\",\n",
    "        \"LLM Call\": \"callmodel\",\n",
    "    }\n",
    ")"
   ]
  },
  {
   "cell_type": "code",
   "execution_count": 30,
   "id": "1582f842",
   "metadata": {},
   "outputs": [],
   "source": [
    "app = graph.compile(checkpointer=MemorySaver())"
   ]
  },
  {
   "cell_type": "code",
   "execution_count": 31,
   "id": "bcab5a5f",
   "metadata": {},
   "outputs": [
    {
     "data": {
      "image/png": "[encoded data removed]",
      "text/plain": [
       "<IPython.core.display.Image object>"
      ]
     },
     "metadata": {},
     "output_type": "display_data"
    }
   ],
   "source": [
    "from IPython.display import Image, display\n",
    "\n",
    "try:\n",
    "    display(Image(app.get_graph().draw_mermaid_png()))\n",
    "except Exception as e:\n",
    "    # This requires some extra dependencies and is optional\n",
    "    print(e)"
   ]
  },
  {
   "cell_type": "code",
   "execution_count": 32,
   "id": "e0831401",
   "metadata": {},
   "outputs": [
    {
     "name": "stdout",
     "output_type": "stream",
     "text": [
      "here is message from call model [HumanMessage(content='current weather in mumbai', additional_kwargs={}, response_metadata={}, id='965c3fb4-5e86-4abe-bb5a-153af931f29a')]\n"
     ]
    }
   ],
   "source": [
    "# Use the Runnable\n",
    "final_state = app.invoke(\n",
    "    {\"messages\": [HumanMessage(content=\"current weather in mumbai\")]},\n",
    "    config={\"configurable\": {\"thread_id\": 42}}\n",
    ")"
   ]
  },
  {
   "cell_type": "code",
   "execution_count": 33,
   "id": "74957378",
   "metadata": {},
   "outputs": [
    {
     "data": {
      "text/plain": [
       "'I do not have access to real-time information, including live weather updates.  To get the current weather in Mumbai, I recommend checking a reliable weather website or app such as Google Weather, AccuWeather, or another weather service you trust.'"
      ]
     },
     "execution_count": 33,
     "metadata": {},
     "output_type": "execute_result"
    }
   ],
   "source": [
    "final_state[\"messages\"][-1].content"
   ]
  },
  {
   "cell_type": "code",
   "execution_count": null,
   "id": "a32fdc86",
   "metadata": {},
   "outputs": [],
   "source": []
  },
  {
   "cell_type": "code",
   "execution_count": null,
   "id": "5eb5f8f9",
   "metadata": {},
   "outputs": [],
   "source": []
  },
  {
   "cell_type": "code",
   "execution_count": null,
   "id": "4a24e3c7",
   "metadata": {},
   "outputs": [],
   "source": []
  },
  {
   "cell_type": "code",
   "execution_count": null,
   "id": "fc053919",
   "metadata": {},
   "outputs": [],
   "source": []
  },
  {
   "cell_type": "code",
   "execution_count": null,
   "id": "a9268f94",
   "metadata": {},
   "outputs": [],
   "source": []
  },
  {
   "cell_type": "code",
   "execution_count": null,
   "id": "badd889b",
   "metadata": {},
   "outputs": [
    {
     "data": {
      "text/plain": [
       "'I do not have access to real-time information, including live weather updates.  To get the current weather in Mumbai, I recommend checking a reliable weather website or app such as Google Weather, AccuWeather, or another weather service specific to your region.'"
      ]
     },
     "execution_count": 30,
     "metadata": {},
     "output_type": "execute_result"
    }
   ],
   "source": []
  },
  {
   "cell_type": "code",
   "execution_count": null,
   "id": "f2fae2c6",
   "metadata": {},
   "outputs": [],
   "source": []
  },
  {
   "cell_type": "code",
   "execution_count": null,
   "id": "1e3d4df7",
   "metadata": {},
   "outputs": [],
   "source": []
  }
 ],
 "metadata": {
  "kernelspec": {
   "display_name": "Python 3",
   "language": "python",
   "name": "python3"
  },
  "language_info": {
   "codemirror_mode": {
    "name": "ipython",
    "version": 3
   },
   "file_extension": ".py",
   "mimetype": "text/x-python",
   "name": "python",
   "nbconvert_exporter": "python",
   "pygments_lexer": "ipython3",
   "version": "3.12.11"
  }
 },
 "nbformat": 4,
 "nbformat_minor": 5
}
