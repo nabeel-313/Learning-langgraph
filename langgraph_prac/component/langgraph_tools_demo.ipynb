{
 "cells": [
  {
   "cell_type": "markdown",
   "id": "e455e2be",
   "metadata": {},
   "source": [
    "### Chatbot with multiple tools"
   ]
  },
  {
   "cell_type": "code",
   "execution_count": null,
   "id": "abdf5e07",
   "metadata": {},
   "outputs": [],
   "source": [
    "import os\n",
    "from dotenv import load_dotenv\n",
    "load_dotenv()\n",
    "\n",
    "os.environ['GOOGLE_API_KEY'] = os.getenv('GOOGLE_API_KEY')\n",
    "os.environ['TAVILY_API_KEY'] = os.getenv('TAVILY_API_KEY')\n",
    "os.environ['GROQ_API_KEY'] = os.getenv('GROQ_API_KEY')\n",
    "\n",
    "google_api = os.environ['GOOGLE_API_KEY']\n"
   ]
  },
  {
   "cell_type": "code",
   "execution_count": 3,
   "metadata": {},
   "outputs": [],
   "source": [
    "from langchain_community.tools import ArxivQueryRun\n",
    "from langchain_community.utilities import ArxivAPIWrapper"
   ]
  },
  {
   "cell_type": "code",
   "execution_count": 4,
   "id": "992a4054",
   "metadata": {},
   "outputs": [
    {
     "name": "stdout",
     "output_type": "stream",
     "text": [
      "arxiv\n"
     ]
    }
   ],
   "source": [
    "api_wrapper_arxiv = ArxivAPIWrapper(top_k_results=3, doc_content_chars_max=700)\n",
    "arxiv = ArxivQueryRun(api_wrapper=api_wrapper_arxiv)\n",
    "print(arxiv.name)"
   ]
  },
  {
   "cell_type": "code",
   "execution_count": 5,
   "id": "938ad2ae",
   "metadata": {},
   "outputs": [
    {
     "data": {
      "text/plain": [
       "\"Published: 2025-07-02\\nTitle: AI Agents and Agentic AI-Navigating a Plethora of Concepts for Future Manufacturing\\nAuthors: Yinwang Ren, Yangyang Liu, Tang Ji, Xun Xu\\nSummary: AI agents are autonomous systems designed to perceive, reason, and act within\\ndynamic environments. With the rapid advancements in generative AI (GenAI),\\nlarge language models (LLMs) and multimodal large language models (MLLMs) have\\nsignificantly improved AI agents' capabilities in semantic comprehension,\\ncomplex reasoning, and autonomous decision-making. At the same time, the rise\\nof Agentic AI highlights adaptability and goal-directed autonomy in dynamic and\\ncomplex environments. LLMs-based AI Agents (LLM-Agents), MLLM\""
      ]
     },
     "execution_count": 5,
     "metadata": {},
     "output_type": "execute_result"
    }
   ],
   "source": [
    "arxiv.invoke(\"Agentic AI\")"
   ]
  },
  {
   "cell_type": "code",
   "execution_count": 8,
   "metadata": {},
   "outputs": [
    {
     "data": {
      "text/plain": [
       "[{'title': 'Joe Root: England batting star becomes second highest ... - Sky Sports',\n",
       "  'url': 'https://www.skysports.com/cricket/news/12123/13401678/joe-root-england-batting-star-becomes-second-highest-all-time-test-run-scorer-behind-only-sachin-tendulkar',\n",
       "  'content': \"Joe Root now sits second on the list of all-time Test run-scorers - and there is a more than decent chance he ends up top of the pile before his career is over.\\n\\nThe England batter pushed past Rahul Dravid, Jacques Kallis and Ricky Ponting while scoring 150 - his 38th Test ton - on day three of the fourth Test against India at Emirates Old Trafford and it is now only Sachin Tendulkar keeping him off the summit. [...] Sky Sports\\n\\nCricket\\n\\n#### Internationals\\n\\n#### Domestic\\n\\n#### Indian Premier League\\n\\n#### Domestic Leagues\\n\\n#### Internationals\\n\\n# Joe Root: England batting star becomes second highest all-time Test run-scorer behind only Sachin Tendulkar [...] Joe Root moves past Rahul Dravid, Jacques Kallis and Ricky Ponting from fifth to second on all-time leading Test run-scorers' list, trailing only Sachin Tendulkar; will England great overhaul Indian legend before his career is over? Ponting looks at what makes Root so successful\\n\\nFriday 25 July 2025 20:16, UK\\n\\nPlease use Chrome browser for a more accessible video player\\n\\ncricket\",\n",
       "  'score': 0.79254496},\n",
       " {'title': 'England v India: Root becomes second-highest run scorer ever ...',\n",
       "  'url': 'https://www.theguardian.com/sport/live/2025/jul/25/england-v-india-fourth-cricket-test-day-three-live-score-updates',\n",
       "  'content': '“I am somewhere north of 50 years old,” writes John Culley. “My heroes in the 1980s were Graham Gooch and David Gower, both exceptional and very different talents. Root has as many centuries as they had combined. He really is an underappreciated little master.”\\n\\nThere are only two Little Masters. Four if you count Sunil Gavaskar and Fergie Gupte.\\n\\n## Joe Root becomes the second highest runscorer in Tests! [...] What comparison was this? All cricket fans recognise that Don Bradman is the greatest, not least because of all those Test hundreds he scored during World War Two.\\n\\nThis is Joe Root’s 12th Test century against India. Only Don Bradman (19 v England) and Sunil Gavaskar (13 v West Indies) have scored more against a single opponent.\\n\\nWinnie the Pooh on a lark [...] 119th over: England 499-4 (Root 150, Smith 2) A single off Washington takes Root to his 16th score of 150 or more in Test cricket. Sixteen! That’s twice as many as Graham Gooch, and he’s the daddy of the daddy hundred!\\n\\nMost 150+ scores in Tests\\n\\n20 Sachin Tendulkar (Ind)\\n\\n19 Brian Lara (WI), Kumar Sangakkara (SL)\\n\\n18 Don Bradman (Aus)\\n\\n16 Mahela Jayawardene (SL), Joe Root (Eng)\\n\\n15 Ricky Ponting (Aus)',\n",
       "  'score': 0.78886026},\n",
       " {'title': 'List of Test cricket records - Wikipedia',\n",
       "  'url': 'https://en.wikipedia.org/wiki/List_of_Test_cricket_records',\n",
       "  'content': '| Rank | Runs | Innings | Players | Batting team | Highest | Average | 100s/50s | Career span |\\n| --- | --- | --- | --- | --- | --- | --- | --- | --- |\\n| 1 | 6,920 | 143 | Rahul Dravid&Sachin Tendulkar | Image 597India | 249 | 50.51 | 20/29 | 1996–2012 |\\n| 2 | 6,554 | 120 | Mahela Jayawardene&Kumar Sangakkara | Image 598Sri Lanka | 624 | 56.5 | 19/27 | 2000–2015 |\\n| 3 | 6,482 | 148 | Gordon Greenidge&Desmond Haynes | Image 599West Indies | 298 | 47.31 | 16/26 | 1978–1991 | [...] RunsWicketTeamPlayersOppositionVenueSeason\\n624 3rdImage 568Sri LankaKumar Sangakkara (287)Mahela Jayawardene (374)Image 569South AfricaSinghalese Sports Club Cricket Ground, Colombo, Sri Lanka 2006\\n576 2ndSanath Jayasuriya (340)Roshan Mahanama (225)Image 570IndiaR. Premadasa Stadium, Colombo, Sri Lanka 1997–98\\n467 3rdImage 571New ZealandAndrew Jones \"Andrew Jones (cricketer, born 1959)\") (186)Martin Crowe (299)Image 572Sri LankaBasin Reserve, Wellington, New Zealand 1990–91 [...] RunsInningsPlayerPeriod\\n15,921 329Image 156: IndiaSachin Tendulkar1989–2013\\n13,378 287Image 157: AustraliaRicky Ponting1995–2012\\n13,289 280Image 158: South AfricaJacques Kallis1995–2013\\n13,288 286Image 159: IndiaRahul Dravid1996–2012\\n12,972 278Image 160: EnglandJoe Root †2012–present\\nLast updated: 17 December 2024(\\n\\n##### Most career runs – progression of record',\n",
       "  'score': 0.71088976},\n",
       " {'title': 'Most runs in a series in Tests - Batting records - ESPNcricinfo',\n",
       "  'url': 'https://www.espncricinfo.com/records/most-runs-in-a-series-282849',\n",
       "  'content': 'KR Stackpole (AUS)\")6 12-627207 52.25 1336 46.93 2 2 1 74 3\\nThe Ashes (England in Australia), 1970/71, 1970/71\")\\nRR Sarwan (WI)\")5 6-626291 104.33 1134 55.20 3 1-70 3\\nThe Wisden Trophy (England in West Indies), 2008/09, 2008/09\")\\nMJ Clarke (AUS)\")4 6 1626329125.20 896 69.86 2--77 2\\nBorder-Gavaskar Trophy (India in Australia), 2011/12, 2011/12\")\\nJH Kallis (SA)\")5 10 1625162 69.44 1184 52.78 3 2 2 68 4\\nBasil D\\'Oliveira Trophy (England in South Africa), 2004/05, 2004/05\") [...] DI Gower (ENG)\")6 9-732215 81.33 1196 61.20 3 1-89 1\\nThe Ashes (Australia in England), 1985, 1985\")\\nGA Faulkner (SA)\")5 10-732204 73.20 1256 58.28 2 5-90 1\\nSouth Africa in Australia Test Series, 1910/11\\nGS Sobers (WI)\")5 8 1722174 103.14 1205 59.91 3 2 1 95 1\\nThe Wisden Trophy (West Indies in England), 1966, 1966\")\\nED Weekes (WI)\")5 8 1716207 102.28--3 2-20+0\\nIndia in West Indies Test Series, 1952/53\\nDG Bradman (AUS)\")5 6 2715201 178.75 1140 62.71 4 1-67 1 [...] Border-Gavaskar Trophy (India in Australia), 2014/15, 2014/15\")\\nAN Cook (ENG)\")5 7 1766235127.66 1438 53.26 3 2-81 1\\nThe Ashes (England in Australia), 2010/11, 2010/11\")\\nBC Lara (WI)\")6 10 1765179 85.00 992 77.11 3 3-121 1\\nThe Wisden Trophy (West Indies in England), 1995, 1995\")\\nMudassar Nazar (PAK)\")6 8 2761231 126.83 1479 51.45 4 1-70 1\\nIndia in Pakistan Test Series, 1982/83\\nDG Bradman (AUS)\")5 8-758304 94.75 1037 73.09 2 1-84+4\\nThe Ashes (Australia in England), 1934, 1934\")',\n",
       "  'score': 0.5582553},\n",
       " {'title': 'Who is the highest scorer in the history of Test cricket? - Quora',\n",
       "  'url': 'https://www.quora.com/Who-is-the-highest-scorer-in-the-history-of-Test-cricket',\n",
       "  'content': 'Who is the youngest skipper in the history of test cricket?\\n\\nWho is currently the highest run scorer for South Africa in Test cricket?\\n\\nWho is the leading run scorer in cricket history (including Tests and ODIs)?\\n\\nIs a private player the highest run scorer in test cricket?\\n\\nWho is the second highest run scorer after Sachin Tendulkar in T20I cricket history?\\n\\nWhich Indian batsman is the highest run-scorer in test cricket history?\\n\\nWhich player has hit the highest six in cricket history? [...] career, Wisden ranked him the second-greatest Test batsman of all time, behind Don Bradman , and the second-greatest ODI batsman of all time, behind Viv Richards . [ 12 ] The same year, Tendulkar was a part of the team that was one of the joint-winners of the 2002 ICC Champions Trophy . Later in his career, Tendulkar was part of the Indian team that won the 2011 Cricket World Cup , his first win in six World Cup appearances for India. [ 13 ] He had previously been named \"Player of the [...] career, Wisden ranked him the second-greatest Test batsman of all time, behind Don Bradman , and the second-greatest ODI batsman of all time, behind Viv Richards . [ 12 ] The same year, Tendulkar was a part of the team that was one of the joint-winners of the 2002 ICC Champions Trophy . Later in his career, Tendulkar was part of the Indian team that won the 2011 Cricket World Cup , his first win in six World Cup appearances for India. [ 13 ] He had previously been named \"Player of the',\n",
       "  'score': 0.5465209}]"
      ]
     },
     "execution_count": 8,
     "metadata": {},
     "output_type": "execute_result"
    }
   ],
   "source": [
    "from langchain_community.tools.tavily_search import TavilySearchResults\n",
    "tavily = TavilySearchResults()\n",
    "\n",
    "tavily.invoke(\"Who is 2nd highest run getter in test cricket\")"
   ]
  },
  {
   "cell_type": "code",
   "execution_count": 9,
   "metadata": {},
   "outputs": [],
   "source": [
    "tools = [arxiv, tavily]"
   ]
  },
  {
   "cell_type": "code",
   "execution_count": 11,
   "id": "85fe3954",
   "metadata": {},
   "outputs": [
    {
     "name": "stderr",
     "output_type": "stream",
     "text": [
      "d:\\Ineuron-materials-FSDS\\Gen AI\\Learning-langgraph\\langgraph\\Lib\\site-packages\\tqdm\\auto.py:21: TqdmWarning: IProgress not found. Please update jupyter and ipywidgets. See https://ipywidgets.readthedocs.io/en/stable/user_install.html\n",
      "  from .autonotebook import tqdm as notebook_tqdm\n"
     ]
    }
   ],
   "source": [
    "from langchain_google_genai import ChatGoogleGenerativeAI\n",
    "llm = ChatGoogleGenerativeAI(model=\"gemini-1.5-flash\", temperature=0.3, google_api_key=google_api)"
   ]
  },
  {
   "cell_type": "code",
   "execution_count": 13,
   "id": "577446a6",
   "metadata": {},
   "outputs": [
    {
     "data": {
      "text/plain": [
       "AIMessage(content='I am sorry, I cannot answer this question. I do not have access to real-time information, including sports statistics.', additional_kwargs={}, response_metadata={'prompt_feedback': {'block_reason': 0, 'safety_ratings': []}, 'finish_reason': 'STOP', 'safety_ratings': []}, id='run--7e8e4842-9388-4fe7-adcf-1eb1b64ec64d-0', usage_metadata={'input_tokens': 119, 'output_tokens': 26, 'total_tokens': 145, 'input_token_details': {'cache_read': 0}})"
      ]
     },
     "execution_count": 13,
     "metadata": {},
     "output_type": "execute_result"
    }
   ],
   "source": [
    "llm_with_tools = llm.bind_tools(tools)\n",
    "\n",
    "from pprint import pprint\n",
    "from langchain_core.messages import HumanMessage\n",
    "\n",
    "llm_with_tools.invoke([HumanMessage(content=\"Who 2nd Highest run getter in ODI cricket\")])"
   ]
  },
  {
   "cell_type": "code",
   "execution_count": null,
   "id": "62e2973b",
   "metadata": {},
   "outputs": [],
   "source": []
  }
 ],
 "metadata": {
  "kernelspec": {
   "display_name": "Python 3",
   "language": "python",
   "name": "python3"
  },
  "language_info": {
   "codemirror_mode": {
    "name": "ipython",
    "version": 3
   },
   "file_extension": ".py",
   "mimetype": "text/x-python",
   "name": "python",
   "nbconvert_exporter": "python",
   "pygments_lexer": "ipython3",
   "version": "3.12.11"
  }
 },
 "nbformat": 4,
 "nbformat_minor": 5
}
