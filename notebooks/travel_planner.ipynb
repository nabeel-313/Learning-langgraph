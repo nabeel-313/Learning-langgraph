{
 "cells": [
  {
   "cell_type": "code",
   "execution_count": 1,
   "id": "baaea13c",
   "metadata": {},
   "outputs": [],
   "source": [
    "from dotenv import load_dotenv\n",
    "import os\n",
    "def get_api_key(api_key_name):\n",
    "        return os.getenv(api_key_name)"
   ]
  },
  {
   "cell_type": "code",
   "execution_count": 2,
   "id": "c5e479cd",
   "metadata": {},
   "outputs": [
    {
     "name": "stderr",
     "output_type": "stream",
     "text": [
      "d:\\Ineuron-materials-FSDS\\Gen AI\\Learning-langgraph\\langgraph\\Lib\\site-packages\\IPython\\core\\interactiveshell.py:3699: LangChainDeprecationWarning: As of langchain-core 0.3.0, LangChain uses pydantic v2 internally. The langchain_core.pydantic_v1 module was a compatibility shim for pydantic v1, and should no longer be used. Please update the code to import from Pydantic directly.\n",
      "\n",
      "For example, replace imports like: `from langchain_core.pydantic_v1 import BaseModel`\n",
      "with: `from pydantic import BaseModel`\n",
      "or the v1 compatibility namespace if you are working in a code base that has not been fully upgraded to pydantic 2 yet. \tfrom pydantic.v1 import BaseModel\n",
      "\n",
      "  exec(code_obj, self.user_global_ns, self.user_ns)\n"
     ]
    }
   ],
   "source": [
    "from typing import TypedDict, List\n",
    "from langgraph.graph import StateGraph, START, END\n",
    "from langchain_openai import ChatOpenAI\n",
    "from langchain_groq import ChatGroq\n",
    "from langchain_core.messages import HumanMessage, SystemMessage\n",
    "from langchain_core.pydantic_v1 import BaseModel\n",
    "from tavily import TavilyClient\n",
    "from langgraph.checkpoint.memory import MemorySaver"
   ]
  },
  {
   "cell_type": "code",
   "execution_count": 3,
   "id": "c26311f0",
   "metadata": {},
   "outputs": [],
   "source": [
    "class State(TypedDict):\n",
    "    destination:str\n",
    "    dates:str\n",
    "    plan:str\n",
    "    content:str\n",
    "    itinerary:str\n",
    "\n",
    "graph_builder = StateGraph(State)\n"
   ]
  },
  {
   "cell_type": "code",
   "execution_count": 4,
   "id": "4ef0d880",
   "metadata": {},
   "outputs": [],
   "source": [
    "#model = ChatOpenAI(api_key=get_api_key(\"OPENAI_API_KEY\"), temperature=0.3, model='gpt-3.5-turbo')\n",
    "model = ChatGroq(api_key=get_api_key(\"GROQ_API_KEY\"),model='llama-3.1-8b-instant',temperature=0.6)"
   ]
  },
  {
   "cell_type": "code",
   "execution_count": 5,
   "id": "a0d98680",
   "metadata": {},
   "outputs": [],
   "source": [
    "PLAN_PROMPT= \"\"\"You are an expert travel planner tasked with creating a high \\\n",
    "level itinerary outline.Write such an outline for the user provided \\\n",
    "destination and dates. Give an outline of the itinerary.\"\"\"\n",
    "\n",
    "def plan_node(State):\n",
    "    messages = [\n",
    "        SystemMessage(content=f\"Planing for {State['destination']} on {State['dates']}\"),\n",
    "        HumanMessage(content=PLAN_PROMPT)\n",
    "    ]\n",
    "    response =model.invoke(messages)\n",
    "    return {\"plan\": response.content}\n",
    "\n"
   ]
  },
  {
   "cell_type": "code",
   "execution_count": 6,
   "id": "8a96bab5",
   "metadata": {},
   "outputs": [],
   "source": [
    "class Queries(BaseModel):\n",
    "    queries: List[str]\n",
    "\n",
    "\n",
    "tavily = TavilyClient(api_key=get_api_key(\"TAVILY_API_KEY\"))\n",
    "\n",
    "\n",
    "RESEARCH_PLAN_PROMPT = \"\"\"You are a travel planner tasked with finding events \\\n",
    "for a user visiting. Generate a list of search queries that will gather \\\n",
    "information on local events during this period such as music festivals, \\\n",
    "food fairs, technical conferences, or any other noteworthy events. \\\n",
    "Only generate 3 queries max.\"\"\"\n",
    "\n",
    "def research_plan_node(state: State):\n",
    "    queries = model.with_structured_output(Queries).invoke([\n",
    "        SystemMessage(content=RESEARCH_PLAN_PROMPT),\n",
    "        HumanMessage(content=f\"{state['destination']}\\n\\nHere is my \\\n",
    "                               dates:\\n\\n{state['dates']}\")\n",
    "    ])\n",
    "    content = []\n",
    "    for q in queries.queries:\n",
    "        response = tavily.search(query=q, max_results=2)\n",
    "        for r in response['results']:\n",
    "            content.append(r['content'])\n",
    "    return {'content': content}\n",
    "\n"
   ]
  },
  {
   "cell_type": "code",
   "execution_count": 7,
   "id": "982cc729",
   "metadata": {},
   "outputs": [],
   "source": [
    "WRITER_PROMPT = \"\"\"You are a travel agent tasked with creating the best \\\n",
    "possible travel itinerary for the user's trip. Generate a detailed itinerary \\\n",
    "based on the provided destination, dates, and any relevant information. \\\n",
    "If the user provides feedback or changes, respond with a revised version \\\n",
    "of your previous itinerary.\\\n",
    "Utilize all the information below as needed:\n",
    "\n",
    "{content}\n",
    "\"\"\"\n",
    "\n",
    "def generation_node(state: State):\n",
    "    content = \"\\n\\n\".join(state['content'] or [])\n",
    "    user_message = HumanMessage(\n",
    "        content=f\"{state['destination']}\\n\\nHere is my \\\n",
    "                dates:\\n\\n{state['dates']}\\n\\nHere is my \\\n",
    "                plan:\\n\\n{state['plan']}\")\n",
    "    messages = [\n",
    "        SystemMessage(content=WRITER_PROMPT.format(content=content)),\n",
    "        user_message\n",
    "    ]\n",
    "    response = model.invoke(messages)\n",
    "    return {'itinerary': response.content}\n",
    "\n"
   ]
  },
  {
   "cell_type": "code",
   "execution_count": 8,
   "id": "e2227eff",
   "metadata": {},
   "outputs": [],
   "source": [
    "# Define constants\n",
    "START = \"start\"\n",
    "END = \"end\"\n",
    "\n",
    "# Safe helper functions\n",
    "def add_node_safe(graph, name, node_obj):\n",
    "    try:\n",
    "        graph.add_node(name, node_obj)\n",
    "    except Exception:\n",
    "        pass\n",
    "\n",
    "def add_edge_safe(graph, from_node, to_node):\n",
    "    try:\n",
    "        graph.add_edge(from_node, to_node)\n",
    "    except Exception:\n",
    "        pass\n",
    "\n",
    "# Add nodes safely\n",
    "add_node_safe(graph_builder, START, plan_node)\n",
    "add_node_safe(graph_builder, \"plan_node\", plan_node)\n",
    "add_node_safe(graph_builder, \"research_plan\", research_plan_node)\n",
    "add_node_safe(graph_builder, \"generation_node\", generation_node)\n",
    "add_node_safe(graph_builder, END, generation_node)  # if END needs a node object\n",
    "\n",
    "# Set entry point safely\n",
    "try:\n",
    "    graph_builder.set_entry_point(START)\n",
    "except Exception:\n",
    "    pass\n",
    "\n",
    "# Add edges safely\n",
    "add_edge_safe(graph_builder, START, \"plan_node\")\n",
    "add_edge_safe(graph_builder, \"plan_node\", \"research_plan\")\n",
    "add_edge_safe(graph_builder, \"research_plan\", \"generation_node\")\n",
    "add_edge_safe(graph_builder, \"generation_node\", END)\n",
    "\n",
    "# Compile and display\n",
    "memory = MemorySaver()\n",
    "graph = graph_builder.compile(checkpointer=memory)\n",
    "\n",
    "# from IPython.display import Image, display, Markdown\n",
    "# #display(Image(graph.get_graph().draw_mermaid_png(max_retries=5, retry_delay=2.0)))\n",
    "# graph.get_graph().draw_mermaid_svg(\"graph.svg\")\n",
    "# from IPython.display import SVG, display\n",
    "# display(SVG(\"graph.svg\"))\n"
   ]
  },
  {
   "cell_type": "code",
   "execution_count": 9,
   "id": "57ea162e",
   "metadata": {},
   "outputs": [
    {
     "name": "stdout",
     "output_type": "stream",
     "text": [
      "{'start': {'plan': \"**Jordan Itinerary: 2024-10-21 to 2024-10-25**\\n\\n**Day 1: October 21 - Arrival in Amman**\\n\\n- Arrive at Queen Alia International Airport (AMM)\\n- Transfer to hotel in Amman city\\n- Spend the day exploring Amman's city center, including:\\n  - Citadel Hill (Amman's highest point)\\n  - Roman Theatre\\n  - King Hussein Mosque\\n  - Traditional Jordanian markets and cafes\\n\\n**Day 2: October 22 - Amman to Petra**\\n\\n- Drive to Petra, a UNESCO World Heritage Site (approximately 4 hours)\\n- Visit the Monastery (Al-Khazneh)\\n- Explore the Siq (a narrow canyon)\\n- Overnight in a hotel near Petra\\n\\n**Day 3: October 23 - Petra**\\n\\n- Spend a full day exploring Petra:\\n  - Visit the Treasury (Al-Khazneh)\\n  - Explore the Street of Facades\\n  - Visit the Amphitheatre\\n  - Hike to the Monastery (optional)\\n- Overnight in a hotel near Petra\\n\\n**Day 4: October 24 - Wadi Rum and Aqaba**\\n\\n- Drive to Wadi Rum (approximately 1 hour), a stunning desert landscape\\n- Take a 4x4 jeep tour through Wadi Rum, exploring its unique rock formations and canyons\\n- Continue to Aqaba, a coastal city (approximately 2 hours)\\n- Spend the evening relaxing on the beach or exploring Aqaba's city center\\n\\n**Day 5: October 25 - Departure**\\n\\n- Spend the morning at leisure in Aqaba\\n- Transfer to Queen Alia International Airport for departure\\n\\n**Additional Recommendations:**\\n\\n- Consider adding a visit to the Dead Sea, a saltwater lake with unique therapeutic properties\\n- Book a guided tour or hire a driver for the day to make the most of your time in Jordan\\n- Pack comfortable walking shoes, sunscreen, and a hat for exploring Petra and Wadi Rum\\n- Respect local customs and traditions, especially when visiting mosques or historical sites\\n\\n**Accommodation Suggestions:**\\n\\n- Amman: Hotel Misk or similar\\n- Petra: Mövenpick Petra or similar\\n- Wadi Rum: Camp or hotel in the area, such as Wadi Rum Night Luxury Camp or similar\\n- Aqaba: Hotel in the city center, such as Aqaba Beach Hotel or similar\\n\\n**Transportation:**\\n\\n- Private transfers and guided tours can be booked in advance\\n- Public transportation options are available, but may not be as convenient\\n\\n**Budget:**\\n\\n- Estimated costs for this itinerary: $1,500 - $2,500 per person, depending on accommodation choices and activities\\n\\nPlease note that this is just a high-level outline, and specific details can be customized to fit your preferences and budget. I recommend booking accommodations and tours in advance to ensure availability.\"}}\n",
      "{'plan_node': {'plan': \"**Jordan Itinerary: 2024-10-21 to 2024-10-25**\\n\\n**Day 1: October 21 - Arrival in Amman**\\n\\n- Arrive at Queen Alia International Airport (AMM)\\n- Transfer to hotel in Amman city\\n- Spend the day exploring Amman's city center, including:\\n  - Citadel Hill (Amman's highest point)\\n  - Roman Theatre\\n  - King Hussein Mosque\\n  - Traditional Jordanian markets and cafes\\n\\n**Day 2: October 22 - Amman to Petra**\\n\\n- Drive to Petra, a UNESCO World Heritage Site (approximately 4 hours)\\n- Visit the Monastery (Al-Khazneh)\\n- Explore the Siq (a narrow canyon)\\n- Overnight in a hotel near Petra\\n\\n**Day 3: October 23 - Petra**\\n\\n- Spend a full day exploring Petra:\\n  - Visit the Treasury (Al-Khazneh)\\n  - Explore the Street of Facades\\n  - Visit the Amphitheatre\\n  - Hike to the Monastery (optional)\\n- Overnight in a hotel near Petra\\n\\n**Day 4: October 24 - Wadi Rum and Aqaba**\\n\\n- Drive to Wadi Rum (approximately 1 hour), a stunning desert landscape\\n- Take a 4x4 jeep tour through Wadi Rum, exploring its unique rock formations and canyons\\n- Continue to Aqaba, a coastal city (approximately 2 hours)\\n- Spend the evening relaxing on the beach or exploring Aqaba's city center\\n\\n**Day 5: October 25 - Departure**\\n\\n- Spend the morning at leisure in Aqaba\\n- Transfer to Queen Alia International Airport for departure\\n\\n**Additional Recommendations:**\\n\\n- Consider adding a visit to the Dead Sea, a saltwater lake with unique therapeutic properties\\n- Book a guided tour or hire a driver for the day to make the most of your time in Jordan\\n- Pack comfortable walking shoes, sunscreen, and a hat for exploring Petra and Wadi Rum\\n- Respect local customs and traditions, especially when visiting mosques or interacting with local communities\\n\\n**Accommodations:**\\n\\n- Amman: a 4-star hotel in the city center\\n- Petra: a 4-star hotel near the site\\n- Aqaba: a 4-star hotel on the beach\\n\\n**Transportation:**\\n\\n- Private transfers between destinations\\n- Guided tour or driver for the day (optional)\\n\\n**Budget:**\\n\\n- Estimated costs for accommodations, transportation, and activities: $1,500-$2,500 per person (depending on individual preferences and exchange rates)\\n\\nPlease note that this is a high-level itinerary outline and can be customized to fit your specific needs and preferences.\"}}\n",
      "{'research_plan': {'content': ['Missing: 2024-10-21 2024-10-25', 'Missing: 2024-10-21 2024-10-25', 'Oct 4, 2024·This festival is a vibrant cultural and entertainment extravaganza that showcases the rich heritage of Jordanian cuisine.', 'The festival featured more than 20 world-class cooking demonstrations, over 70 restaurants, more than 25 food trucks, and more than 50 local market stalls.', \"This year's conference has been designed to provide an innovative and comprehensive overview of the latest research developments in Family Medicine and Primary\", 'UpcomingEvents ; The 2nd International Conference and Forum on: Business and Digital Economy 2024 (IBDE) · https://conferences.ju.edu.jo/en/ibde2024/Home.aspx']}}\n",
      "{'generation_node': {'itinerary': \"**Revised Jordan Itinerary: 2024-10-21 to 2024-10-25**\\n\\n**Day 1: October 21 - Arrival in Amman and Festival of Taste**\\n\\n- Arrive at Queen Alia International Airport (AMM)\\n- Transfer to hotel in Amman city\\n- Spend the day exploring Amman's city center, including:\\n  - Citadel Hill (Amman's highest point)\\n  - Roman Theatre\\n  - King Hussein Mosque\\n  - Traditional Jordanian markets and cafes\\n- Attend the Festival of Taste (info provided) to experience Jordanian cuisine and culture\\n\\n**Day 2: October 22 - Amman to Petra**\\n\\n- Drive to Petra, a UNESCO World Heritage Site (approximately 4 hours)\\n- Visit the Monastery (Al-Khazneh)\\n- Explore the Siq (a narrow canyon)\\n- Overnight in a hotel near Petra\\n\\n**Day 3: October 23 - Petra**\\n\\n- Spend a full day exploring Petra:\\n  - Visit the Treasury (Al-Khazneh)\\n  - Explore the Street of Facades\\n  - Visit the Amphitheatre\\n  - Hike to the Monastery (optional)\\n- Attend the 2nd International Conference and Forum on Business and Digital Economy 2024 (IBDE) (info provided) for professional development\\n\\n**Day 4: October 24 - Wadi Rum and Aqaba**\\n\\n- Drive to Wadi Rum (approximately 1 hour), a stunning desert landscape\\n- Take a 4x4 jeep tour through Wadi Rum, exploring its unique rock formations and canyons\\n- Continue to Aqaba, a coastal city (approximately 2 hours)\\n- Spend the evening relaxing on the beach or exploring Aqaba's city center\\n\\n**Day 5: October 25 - Departure**\\n\\n- Spend the morning at leisure in Aqaba\\n- Transfer to Queen Alia International Airport for departure\\n\\n**Additional Recommendations:**\\n\\n- Consider adding a visit to the Dead Sea, a saltwater lake with unique therapeutic properties\\n- Book a guided tour or hire a driver for the day to make the most of your time in Jordan\\n- Pack comfortable walking shoes, sunscreen, and a hat for exploring Petra and Wadi Rum\\n- Respect local customs and traditions, especially when visiting mosques or interacting with local communities\\n\\n**Accommodations:**\\n\\n- Amman: a 4-star hotel in the city center\\n- Petra: a 4-star hotel near the site\\n- Aqaba: a 4-star hotel on the beach\\n\\n**Transportation:**\\n\\n- Private transfers between destinations\\n- Guided tour or driver for the day (optional)\\n\\n**Budget:**\\n\\n- Estimated costs for accommodations, transportation, and activities: $1,500-$2,500 per person (depending on individual preferences and exchange rates)\\n\\nPlease note that this revised itinerary includes the Festival of Taste and the 2nd International Conference and Forum on Business and Digital Economy 2024 (IBDE).\"}}\n",
      "{'end': {'itinerary': \"**Revised Jordan Itinerary: 2024-10-21 to 2024-10-25**\\n\\n**Day 1: October 21 - Arrival in Amman and Festival of Taste**\\n\\n- Arrive at Queen Alia International Airport (AMM)\\n- Transfer to hotel in Amman city\\n- Spend the day exploring Amman's city center, including:\\n  - Citadel Hill (Amman's highest point)\\n  - Roman Theatre\\n  - King Hussein Mosque\\n  - Traditional Jordanian markets and cafes\\n- Attend the Festival of Taste (info provided) which is happening on October 21st, a vibrant cultural and entertainment extravaganza that showcases the rich heritage of Jordanian cuisine\\n- Visit over 20 world-class cooking demonstrations, 70 restaurants, 25 food trucks, and 50 local market stalls\\n\\n**Day 2: October 22 - Amman to Petra and Conference**\\n\\n- Drive to Petra, a UNESCO World Heritage Site (approximately 4 hours)\\n- Visit the Monastery (Al-Khazneh)\\n- Explore the Siq (a narrow canyon)\\n- Attend the 2nd International Conference and Forum on Business and Digital Economy 2024 (IBDE) at the University of Jordan (info provided)\\n- Overnight in a hotel near Petra\\n\\n**Day 3: October 23 - Petra**\\n\\n- Spend a full day exploring Petra:\\n  - Visit the Treasury (Al-Khazneh)\\n  - Explore the Street of Facades\\n  - Visit the Amphitheatre\\n  - Hike to the Monastery (optional)\\n- Overnight in a hotel near Petra\\n\\n**Day 4: October 24 - Wadi Rum and Aqaba**\\n\\n- Drive to Wadi Rum (approximately 1 hour), a stunning desert landscape\\n- Take a 4x4 jeep tour through Wadi Rum, exploring its unique rock formations and canyons\\n- Continue to Aqaba, a coastal city (approximately 2 hours)\\n- Spend the evening relaxing on the beach or exploring Aqaba's city center\\n\\n**Day 5: October 25 - Departure**\\n\\n- Spend the morning at leisure in Aqaba\\n- Transfer to Queen Alia International Airport for departure\\n\\n**Additional Recommendations:**\\n\\n- Consider adding a visit to the Dead Sea, a saltwater lake with unique therapeutic properties\\n- Book a guided tour or hire a driver for the day to make the most of your time in Jordan\\n- Pack comfortable walking shoes, sunscreen, and a hat for exploring Petra and Wadi Rum\\n- Respect local customs and traditions, especially when visiting mosques or interacting with local communities\\n\\n**Accommodations:**\\n\\n- Amman: a 4-star hotel in the city center (consider upgrading to a hotel near the Festival of Taste)\\n- Petra: a 4-star hotel near the site\\n- Aqaba: a 4-star hotel on the beach\\n\\n**Transportation:**\\n\\n- Private transfers between destinations\\n- Guided tour or driver for the day (optional)\\n\\n**Budget:**\\n\\n- Estimated costs for accommodations, transportation, and activities: $1,800-$3,000 per person (depending on individual preferences and exchange rates)\\n\\nThis revised itinerary incorporates the Festival of Taste on Day 1 and the Conference on Day 2, providing a unique cultural and professional experience in Jordan.\"}}\n"
     ]
    }
   ],
   "source": [
    "\n",
    "\n",
    "thread = {'configurable': {'thread_id': '1'}}\n",
    "for s in graph.stream({\n",
    "    'destination': 'Jordan',\n",
    "    'dates': '2024-10-21 to 2024-10-25'\n",
    "}, thread):\n",
    "    print(s)"
   ]
  },
  {
   "cell_type": "code",
   "execution_count": 10,
   "id": "5b161bfc",
   "metadata": {},
   "outputs": [
    {
     "name": "stdout",
     "output_type": "stream",
     "text": [
      "Revised Itinerary:\n",
      "\n",
      "Day 1: October 21, 2024\n",
      "  - Arrival in New York City\n",
      "  - Check into your accommodation\n",
      "  - Explore Times Square and take in the bright lights and bustling atmosphere\n",
      "  - Dinner at a local restaurant\n",
      "\n",
      "Day 2: October 22, 2024\n",
      "  - Visit the Statue of Liberty and Ellis Island\n",
      "  - Explore the 9/11 Memorial and Museum\n",
      "  - Walk around Wall Street and the Financial District\n",
      "  - Dinner in Lower Manhattan\n",
      "\n",
      "Day 3: October 23, 2024\n",
      "  - Join us at Leo Bar for Asia Society Museum’s new exhibition, *Maḏayin: Eight Decades of Aboriginal Australian Bark Painting from Yirrkala*. Enjoy free museum admission, guided tours, drink specials, and music.\n",
      "  - Visit Central Park and enjoy a leisurely stroll or bike ride\n",
      "  - Shopping on Fifth Avenue\n",
      "  - Dinner in Midtown Manhattan\n",
      "\n",
      "Day 4: October 24, 2024\n",
      "  - Food Network New York City Wine & Food Festival. Explore the culinary delights of the city with presentations from chefs and influencers.\n",
      "  - Take a ferry to Staten Island for views of the Statue of Liberty and the Manhattan skyline\n",
      "  - Explore Brooklyn, including DUMBO and Brooklyn Bridge Park\n",
      "  - Dinner in Brooklyn\n",
      "\n",
      "Day 5: October 25, 2024\n",
      "  - The inaugural United Sounds NYC Festival at Pioneer Works featuring performances by various artists.\n",
      "  - Morning visit to the High Line and Chelsea Market\n",
      "  - Explore Greenwich Village and SoHo\n",
      "  - Final shopping and sightseeing\n",
      "  - Departure from New York City\n",
      "\n",
      "This revised itinerary incorporates some of the highlighted events happening during your stay in New York City, offering a blend of cultural experiences, music festivals, and culinary delights. Enjoy your trip!\n"
     ]
    }
   ],
   "source": [
    "snapshot = graph.get_state(thread)\n",
    "\n",
    "def pretty_print_itinerary(itinerary):\n",
    "    lines = itinerary.split('\\n')\n",
    "    for line in lines:\n",
    "        if line.startswith('**'):\n",
    "            print(f\"\\n{line.strip('*')}\")\n",
    "        elif line.startswith('-'):\n",
    "            print(f\"  {line}\")\n",
    "        else:\n",
    "            print(line)\n",
    "\n",
    "pretty_print_itinerary(snapshot.values['itinerary'])"
   ]
  },
  {
   "cell_type": "code",
   "execution_count": 12,
   "id": "38a701e0",
   "metadata": {},
   "outputs": [
    {
     "name": "stdout",
     "output_type": "stream",
     "text": [
      "\n",
      "Revised Itinerary:\n",
      "\n",
      "\n",
      "Day 1: Arrival in UAE (October 21, 2024)\n",
      "  - Arrive in UAE and check into your hotel.\n",
      "  - Relax and unwind after your journey.\n",
      "  - Explore the local area and enjoy a traditional Emirati dinner.\n",
      "\n",
      "\n",
      "Day 2: Dubai City Tour (October 22, 2024)\n",
      "  - Visit iconic landmarks such as the Burj Khalifa, Dubai Mall, and Dubai Fountain.\n",
      "  - Explore the historic Al Fahidi neighborhood and Dubai Museum.\n",
      "  - Enjoy a traditional Arabic lunch.\n",
      "  - Optional visit to the Dubai Marina and JBR Beach.\n",
      "\n",
      "\n",
      "Day 3: Beyond Trib Fest: Dubai 2024 (October 23, 2024)\n",
      "  - Attend the Beyond Trib Fest: Dubai 2024 at the Irish Village @ Garhoud, celebrating the world's greatest musical icons.\n",
      "  - Enjoy a day filled with music and entertainment for the whole family.\n",
      "\n",
      "\n",
      "Day 4: Desert Safari Experience (October 24, 2024)\n",
      "  - Enjoy a thrilling desert safari experience with dune bashing, camel riding, and sandboarding.\n",
      "  - Watch the sunset over the desert and enjoy a traditional Arabian dinner under the stars.\n",
      "  - Experience traditional entertainment such as belly dancing and Tanoura show.\n",
      "\n",
      "\n",
      "Day 5: Abu Dhabi Day Trip (October 25, 2024)\n",
      "  - Travel to Abu Dhabi, the capital of the UAE.\n",
      "  - Visit the Sheikh Zayed Grand Mosque, Emirates Palace, and Corniche.\n",
      "  - Explore the Louvre Abu Dhabi or the Qasr Al Hosn Fort.\n",
      "  - Return to Dubai in the evening.\n",
      "\n",
      "\n",
      "Note:** This revised itinerary includes the Beyond Trib Fest event on October 23, 2024, as well as adjustments to accommodate your travel dates. Feel free to provide any feedback or preferences for further customization. Enjoy your trip to the UAE!\n"
     ]
    }
   ],
   "source": [
    "snapshot = graph.get_state(thread)\n",
    "\n",
    "def pretty_print_itinerary(itinerary):\n",
    "    lines = itinerary.split('\\n')\n",
    "    for line in lines:\n",
    "        if line.startswith('**'):\n",
    "            print(f\"\\n{line.strip('*')}\")\n",
    "        elif line.startswith('-'):\n",
    "            print(f\"  {line}\")\n",
    "        else:\n",
    "            print(line)\n",
    "\n",
    "pretty_print_itinerary(snapshot.values['itinerary'])"
   ]
  },
  {
   "cell_type": "code",
   "execution_count": 14,
   "id": "8e5a8f25",
   "metadata": {},
   "outputs": [
    {
     "name": "stdout",
     "output_type": "stream",
     "text": [
      "Revised Itinerary Outline for KSA Trip on 2024-10-21 to 2024-10-25:\n",
      "\n",
      "Day 1 (2024-10-21):\n",
      "  - Arrival in Riyadh, KSA\n",
      "  - Check-in at the hotel\n",
      "  - Rest and relax after your journey\n",
      "\n",
      "Day 2 (2024-10-22):\n",
      "  - Breakfast at the hotel\n",
      "  - Attend the InFlavour B2B F&B Trade Show at Riyadh International Convention Centre\n",
      "  - Explore the various food-related exhibits and networking opportunities\n",
      "  - Lunch at the event\n",
      "  - Free evening to relax or explore the local area\n",
      "\n",
      "Day 3 (2024-10-23):\n",
      "  - Breakfast at the hotel\n",
      "  - Attend the Intersec Saudi Arabia 2024 event at Riyadh International Convention Centre\n",
      "  - Engage with the latest innovations in security, safety, and fire protection industries\n",
      "  - Lunch at the event\n",
      "  - Dinner at a local restaurant\n",
      "\n",
      "Day 4 (2024-10-24):\n",
      "  - Breakfast at the hotel\n",
      "  - Participate in the European Food Festival at a nearby location\n",
      "  - Enjoy the culinary delights and cultural experiences\n",
      "  - Return to Riyadh for dinner at a traditional Saudi restaurant\n",
      "\n",
      "Day 5 (2024-10-25):\n",
      "  - Breakfast at the hotel\n",
      "  - Visit the Masmak Fortress and Al-Masmak Souq\n",
      "  - Explore the historic Diriyah area\n",
      "  - Lunch at a local restaurant\n",
      "  - Souvenir shopping at Al-Zal Market\n",
      "  - Departure from Riyadh\n",
      "\n",
      "This revised itinerary incorporates your interest in attending events and trade shows during your stay in Riyadh. It provides a unique blend of cultural experiences, culinary delights, and networking opportunities. Feel free to make any adjustments based on your preferences.\n"
     ]
    }
   ],
   "source": [
    "snapshot = graph.get_state(thread)\n",
    "\n",
    "def pretty_print_itinerary(itinerary):\n",
    "    lines = itinerary.split('\\n')\n",
    "    for line in lines:\n",
    "        if line.startswith('**'):\n",
    "            print(f\"\\n{line.strip('*')}\")\n",
    "        elif line.startswith('-'):\n",
    "            print(f\"  {line}\")\n",
    "        else:\n",
    "            print(line)\n",
    "\n",
    "pretty_print_itinerary(snapshot.values['itinerary'])"
   ]
  },
  {
   "cell_type": "code",
   "execution_count": 10,
   "id": "8da1a5a6",
   "metadata": {},
   "outputs": [
    {
     "name": "stdout",
     "output_type": "stream",
     "text": [
      "\n",
      "Revised Jordan Itinerary: 2024-10-21 to 2024-10-25\n",
      "\n",
      "\n",
      "Day 1: October 21 - Arrival in Amman and Festival of Taste\n",
      "\n",
      "  - Arrive at Queen Alia International Airport (AMM)\n",
      "  - Transfer to hotel in Amman city\n",
      "  - Spend the day exploring Amman's city center, including:\n",
      "  - Citadel Hill (Amman's highest point)\n",
      "  - Roman Theatre\n",
      "  - King Hussein Mosque\n",
      "  - Traditional Jordanian markets and cafes\n",
      "  - Attend the Festival of Taste (info provided) which is happening on October 21st, a vibrant cultural and entertainment extravaganza that showcases the rich heritage of Jordanian cuisine\n",
      "  - Visit over 20 world-class cooking demonstrations, 70 restaurants, 25 food trucks, and 50 local market stalls\n",
      "\n",
      "\n",
      "Day 2: October 22 - Amman to Petra and Conference\n",
      "\n",
      "  - Drive to Petra, a UNESCO World Heritage Site (approximately 4 hours)\n",
      "  - Visit the Monastery (Al-Khazneh)\n",
      "  - Explore the Siq (a narrow canyon)\n",
      "  - Attend the 2nd International Conference and Forum on Business and Digital Economy 2024 (IBDE) at the University of Jordan (info provided)\n",
      "  - Overnight in a hotel near Petra\n",
      "\n",
      "\n",
      "Day 3: October 23 - Petra\n",
      "\n",
      "  - Spend a full day exploring Petra:\n",
      "  - Visit the Treasury (Al-Khazneh)\n",
      "  - Explore the Street of Facades\n",
      "  - Visit the Amphitheatre\n",
      "  - Hike to the Monastery (optional)\n",
      "  - Overnight in a hotel near Petra\n",
      "\n",
      "\n",
      "Day 4: October 24 - Wadi Rum and Aqaba\n",
      "\n",
      "  - Drive to Wadi Rum (approximately 1 hour), a stunning desert landscape\n",
      "  - Take a 4x4 jeep tour through Wadi Rum, exploring its unique rock formations and canyons\n",
      "  - Continue to Aqaba, a coastal city (approximately 2 hours)\n",
      "  - Spend the evening relaxing on the beach or exploring Aqaba's city center\n",
      "\n",
      "\n",
      "Day 5: October 25 - Departure\n",
      "\n",
      "  - Spend the morning at leisure in Aqaba\n",
      "  - Transfer to Queen Alia International Airport for departure\n",
      "\n",
      "\n",
      "Additional Recommendations:\n",
      "\n",
      "  - Consider adding a visit to the Dead Sea, a saltwater lake with unique therapeutic properties\n",
      "  - Book a guided tour or hire a driver for the day to make the most of your time in Jordan\n",
      "  - Pack comfortable walking shoes, sunscreen, and a hat for exploring Petra and Wadi Rum\n",
      "  - Respect local customs and traditions, especially when visiting mosques or interacting with local communities\n",
      "\n",
      "\n",
      "Accommodations:\n",
      "\n",
      "  - Amman: a 4-star hotel in the city center (consider upgrading to a hotel near the Festival of Taste)\n",
      "  - Petra: a 4-star hotel near the site\n",
      "  - Aqaba: a 4-star hotel on the beach\n",
      "\n",
      "\n",
      "Transportation:\n",
      "\n",
      "  - Private transfers between destinations\n",
      "  - Guided tour or driver for the day (optional)\n",
      "\n",
      "\n",
      "Budget:\n",
      "\n",
      "  - Estimated costs for accommodations, transportation, and activities: $1,800-$3,000 per person (depending on individual preferences and exchange rates)\n",
      "\n",
      "This revised itinerary incorporates the Festival of Taste on Day 1 and the Conference on Day 2, providing a unique cultural and professional experience in Jordan.\n"
     ]
    }
   ],
   "source": [
    "snapshot = graph.get_state(thread)\n",
    "\n",
    "def pretty_print_itinerary(itinerary):\n",
    "    lines = itinerary.split('\\n')\n",
    "    for line in lines:\n",
    "        if line.startswith('**'):\n",
    "            print(f\"\\n{line.strip('*')}\")\n",
    "        elif line.startswith('-'):\n",
    "            print(f\"  {line}\")\n",
    "        else:\n",
    "            print(line)\n",
    "\n",
    "pretty_print_itinerary(snapshot.values['itinerary'])"
   ]
  },
  {
   "cell_type": "raw",
   "id": "a470cf8e",
   "metadata": {
    "vscode": {
     "languageId": "raw"
    }
   },
   "source": [
    "https://medium.com/@jalajagr/automate-your-travel-plans-with-multi-agent-ai-langgraph-14d688baed66#id_token=eyJhbGciOiJSUzI1NiIsImtpZCI6IjJkN2VkMzM4YzBmMTQ1N2IyMTRhMjc0YjVlMGU2NjdiNDRhNDJkZGUiLCJ0eXAiOiJKV1QifQ.eyJpc3MiOiJodHRwczovL2FjY291bnRzLmdvb2dsZS5jb20iLCJhenAiOiIyMTYyOTYwMzU4MzQtazFrNnFlMDYwczJ0cDJhMmphbTRsamRjbXMwMHN0dGcuYXBwcy5nb29nbGV1c2VyY29udGVudC5jb20iLCJhdWQiOiIyMTYyOTYwMzU4MzQtazFrNnFlMDYwczJ0cDJhMmphbTRsamRjbXMwMHN0dGcuYXBwcy5nb29nbGV1c2VyY29udGVudC5jb20iLCJzdWIiOiIxMTYyMjY0OTg3NjEwMDE1MjI3NzciLCJlbWFpbCI6Im1vbWlubmFiZWVsYWhtZWQxMjNAZ21haWwuY29tIiwiZW1haWxfdmVyaWZpZWQiOnRydWUsIm5iZiI6MTc1NjkxMTQxNSwibmFtZSI6Ik5hYmVlbCBBaG1lZCIsInBpY3R1cmUiOiJodHRwczovL2xoMy5nb29nbGV1c2VyY29udGVudC5jb20vYS9BQ2c4b2NLNHNWeHRVUGRZaUt4SWZQaG5PVkZ6dmZ5MENTUEdQbDUxTFRLZ2NtTUdkUlVoTUE9czk2LWMiLCJnaXZlbl9uYW1lIjoiTmFiZWVsIiwiZmFtaWx5X25hbWUiOiJBaG1lZCIsImlhdCI6MTc1NjkxMTcxNSwiZXhwIjoxNzU2OTE1MzE1LCJqdGkiOiI0ZGE5NDcyZDhjMTgyMDE0OWViMjJmNzE2M2EyNGJjN2ZhOTMwOTU0In0.b7VgAnIKq4GTV33RTtshQXNO_HsDL1VYr0PsC3XiU3sW_u3oZR1E6U6QtE5lffW1LEm_u3p6JPmvLmqiVihNL9t2KkfN61d49vKgvGVisOE-5PLG9DZpO5HFWDsYgu5VzdVKs1zbIYHzQEVAdQKoeaurw-t2i--kR0GsRiL50kZtNO2ZAC978FvOMMhqWPO43ajXl-SYGt38RryT3rA5b6iq-cUMrLuKQu0WFvfG8o53m4OLDIjUG23KXe5SiHNV0g9aLGtxPsIoT2ybxm6dGEdlMzrhP4bbz8i_EaGaDqArJpRH7E5cIaPbYej-Qz7_JIgm8-3SADqROZDslToHCg"
   ]
  },
  {
   "cell_type": "code",
   "execution_count": 1,
   "id": "316bfc72",
   "metadata": {},
   "outputs": [],
   "source": [
    "import re\n",
    "import spacy\n",
    "from dateutil import parser as date_parser\n",
    "from datetime import timedelta, date\n",
    "\n",
    "class TravelInfo:\n",
    "    def __init__(self):\n",
    "        self.nlp = spacy.load(\"en_core_web_md\")  # good for location\n",
    "\n",
    "    def extract_location(self, text: str):\n",
    "        doc = self.nlp(text)\n",
    "        locations = [ent.text for ent in doc.ents if ent.label_ == \"GPE\"]\n",
    "        return locations\n",
    "\n",
    "    def extract_dates_and_duration(self, text: str):\n",
    "        start_date, end_date, duration = None, None, None\n",
    "\n",
    "        # Case 1: explicit date range \"from X to Y\"\n",
    "        range_match = re.search(\n",
    "            r\"from\\s+([\\d]{1,2}\\s+[A-Za-z]{3,9}\\s+\\d{4})\\s+to\\s+([\\d]{1,2}\\s+[A-Za-z]{3,9}\\s+\\d{4})\",\n",
    "            text,\n",
    "            re.IGNORECASE,\n",
    "        )\n",
    "        if range_match:\n",
    "            start_date = date_parser.parse(range_match.group(1)).date()\n",
    "            end_date = date_parser.parse(range_match.group(2)).date()\n",
    "            duration = (end_date - start_date).days\n",
    "            return start_date, end_date, duration\n",
    "\n",
    "        # Case 2: single start date with duration\n",
    "        date_match = re.search(r\"\\b\\d{1,2}\\s+[A-Za-z]{3,9}\\s+\\d{4}\\b\", text)\n",
    "        if date_match:\n",
    "            start_date = date_parser.parse(date_match.group()).date()\n",
    "\n",
    "        dur_match = re.search(r\"(\\d+)\\s+days?\", text.lower())\n",
    "        if dur_match:\n",
    "            duration = int(dur_match.group(1))\n",
    "\n",
    "        if start_date and duration:\n",
    "            end_date = start_date + timedelta(days=duration)\n",
    "\n",
    "        return start_date, end_date, duration\n",
    "\n",
    "    def extract_trip_info(self, text: str):\n",
    "        locations = self.extract_location(text)\n",
    "        start, end, trip_days = self.extract_dates_and_duration(text)\n",
    "\n",
    "        return {\n",
    "            \"location\": locations[0] if locations else None,\n",
    "            \"start_date\": start.isoformat() if start else None,\n",
    "            \"end_date\": end.isoformat() if end else None,\n",
    "            \"duration\": trip_days,\n",
    "        }\n"
   ]
  },
  {
   "cell_type": "code",
   "execution_count": 2,
   "id": "b6cb683c",
   "metadata": {},
   "outputs": [
    {
     "name": "stdout",
     "output_type": "stream",
     "text": [
      "{'location': 'Oman', 'start_date': '2025-12-12', 'end_date': '2026-01-01', 'duration': 20}\n"
     ]
    }
   ],
   "source": [
    "extractor = TravelInfo()\n",
    "q = 'I want to travel Oman for 20 days from 12 December 2025'\n",
    "info = extractor.extract_trip_info(q)\n",
    "print(info)"
   ]
  },
  {
   "cell_type": "code",
   "execution_count": 4,
   "id": "23a0829b",
   "metadata": {},
   "outputs": [
    {
     "name": "stdout",
     "output_type": "stream",
     "text": [
      "{'location': None, 'start_date': '2025-12-12', 'end_date': '2025-12-30', 'duration': 18}\n"
     ]
    }
   ],
   "source": [
    "extractor = TravelInfo()\n",
    "q = 'I want to travel uk for from 12 December 2025 to 30 Dec 2025'\n",
    "info = extractor.extract_trip_info(q)\n",
    "print(info)"
   ]
  },
  {
   "cell_type": "raw",
   "id": "02d98663",
   "metadata": {
    "vscode": {
     "languageId": "raw"
    }
   },
   "source": [
    "if state['location'] is None:\n",
    "    user_input = input(\"Enter llocation: \")\n",
    "    state['location'] = user_input\n"
   ]
  }
 ],
 "metadata": {
  "kernelspec": {
   "display_name": "langgraph",
   "language": "python",
   "name": "python3"
  },
  "language_info": {
   "codemirror_mode": {
    "name": "ipython",
    "version": 3
   },
   "file_extension": ".py",
   "mimetype": "text/x-python",
   "name": "python",
   "nbconvert_exporter": "python",
   "pygments_lexer": "ipython3",
   "version": "3.12.11"
  }
 },
 "nbformat": 4,
 "nbformat_minor": 5
}
